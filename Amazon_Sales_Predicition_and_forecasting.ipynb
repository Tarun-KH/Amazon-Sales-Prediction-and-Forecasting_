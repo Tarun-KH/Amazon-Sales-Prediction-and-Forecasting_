{
  "nbformat": 4,
  "nbformat_minor": 0,
  "metadata": {
    "colab": {
      "provenance": [],
      "authorship_tag": "ABX9TyNMvb2SdmOWcmW2AcnkmKMH",
      "include_colab_link": true
    },
    "kernelspec": {
      "name": "python3",
      "display_name": "Python 3"
    },
    "language_info": {
      "name": "python"
    }
  },
  "cells": [
    {
      "cell_type": "markdown",
      "metadata": {
        "id": "view-in-github",
        "colab_type": "text"
      },
      "source": [
        "<a href=\"https://colab.research.google.com/github/Tarun-KH/Amazon-Sales-Prediction-and-Forecasting_/blob/main/Amazon_Sales_Predicition_and_forecasting.ipynb\" target=\"_parent\"><img src=\"https://colab.research.google.com/assets/colab-badge.svg\" alt=\"Open In Colab\"/></a>"
      ]
    },
    {
      "cell_type": "markdown",
      "source": [
        "##SALES PREDICTION AND FORECASTING"
      ],
      "metadata": {
        "id": "1Dw3UD0YNNq1"
      }
    },
    {
      "cell_type": "markdown",
      "source": [
        "## Table of Contents\n",
        "\n",
        "* 1. Introduction\n",
        "\n",
        "* 2. Dataset Content\n",
        "\n",
        "* 3. Objective\n",
        "\n",
        "* 4. Preliminary analysis\n",
        "\n",
        "* 5. Importing our Libraries and Modules\n",
        "\n",
        "* 6. Data Cleaning and Preparation\n",
        "     \n",
        "* 7. Rating Category\n",
        "     \n",
        "* 8. Data Exploration\n",
        "\n",
        "    * 8.1.  Observation 1. Product Category\n",
        "\n",
        "    * 8.2.  Observation 2. Correlation between Features\n",
        "\n",
        "    * 8.3.  Observation 3. Product Rating\n",
        "    \n",
        "    * 8.4.  Observation 4. Reviewers\n",
        "\n",
        "    * 8.5.  Observation 5. Product Pricing\n",
        "    \n",
        "* 9.  Predicting Discounted Price of Products\n",
        "\n",
        "* 10. Evaluating Simple Linear Regression Model\n",
        "\n",
        "* 11. Conclusion\n",
        "\n",
        "\n",
        "\n",
        "\n",
        "\n",
        "\n",
        "\n",
        "\n"
      ],
      "metadata": {
        "id": "Ai96sdXNE1i8"
      }
    },
    {
      "cell_type": "markdown",
      "source": [
        "##INTRODUCTION\n",
        "\n",
        "This dataset consists more than 1000 of real products with their identification number listed in the Amazon marketplace specifically from the region India. We noticed the region due to the currency used in the dataset is Rupee India.Amazon Forecast forecasts future business outcomes for FBA(Fulfillment By Amazon) sellers, such as resource requirements, product demand, and financial success, using machine learning technologies. This fully-managed service's built-in technologies analyze your Amazon FBA historical data to find patterns and forecast future sales.A common approach for sales forecasting is to use historical sales data to predict future demand. Forecasting future demand is critical for planning and impacts inventory, logistics, and even marketing campaigns. Sales forecasting is generated at many levels such as product, sales channel (store, website, partner), warehouse, city, or country.\n",
        "\n"
      ],
      "metadata": {
        "id": "_QWtLMGlEA-4"
      }
    },
    {
      "cell_type": "markdown",
      "source": [
        "##Dataset Content"
      ],
      "metadata": {
        "id": "r89U7K-KLklH"
      }
    },
    {
      "cell_type": "markdown",
      "source": [
        "The dataset is obtained from Kaggle at the following link: https://www.kaggle.com/datasets/karkavelrajaj/amazon-sales-dataset .\n",
        "\n",
        "This dataset is having the data of 1K+ Amazon Product's Ratings and Reviews as per their details listed on the official website of Amazon\n",
        "\n",
        "The features can be explained as follows:\n",
        "*   product_id - Product ID\n",
        "*   product_name - Name of the Product\n",
        "*   category - Category of the Product\n",
        "*   discounted_price - Discounted Price of the Product\n",
        "*   actual_price - Actual Price of the Product\n",
        "*   discount_percentage - Percentage of Discount for the Product\n",
        "*   rating - Rating of the Product\n",
        "*   rating_count - Number of people who voted for the Amazon rating\n",
        "*   about_product - Description about the Product\n",
        "*   user_id - ID of the user who wrote review for the Product\n",
        "*   user_name - Name of the user who wrote review for the Product\n",
        "*   review_id - ID of the user review\n",
        "*   review_title - Short review\n",
        "*   review_content - Long review\n",
        "*   img_link - Image Link of the Product\n",
        "*   product_link - Official Website Link of the Product\n",
        "\n"
      ],
      "metadata": {
        "id": "sB6k6vG3JH5H"
      }
    },
    {
      "cell_type": "markdown",
      "source": [
        "##Objective"
      ],
      "metadata": {
        "id": "G4w9Z2ueLzbu"
      }
    },
    {
      "cell_type": "markdown",
      "source": [
        "Predicting future sales is one of the biggest challenges every retail organisation has – but it’s also one of the most important pieces of insight. Having a clear and reliable picture of predicted sales for the next day or week allows your company to adjust its strategy and increase the chances of meeting its sales and revenue goals.With a reliable sales forecast, we can improve our marketing strategy, decision-making process, and spend, to ensure successful operations of the business.\n",
        "Our Objective is Clean and Prepare the Data due to the raw data being very unorganised.\n",
        "We will then move on to finding insights about the data and try to elaborate in the form of visualisation."
      ],
      "metadata": {
        "id": "VE0d9QAkEccZ"
      }
    },
    {
      "cell_type": "markdown",
      "source": [
        "#Preliminary Analysis"
      ],
      "metadata": {
        "id": "k11vot3sG3ia"
      }
    },
    {
      "cell_type": "markdown",
      "source": [
        "Based on the analysis, we can draw some preliminary insights about the Q2 2022 performance of Amazon India:\n",
        "\n",
        "The total revenue for Q2 2022 decreased by -18.77% from April to June, with May revenue experiencing a -9.06% decrease from April, and June revenue seeing a -10.68% decrease from May, which is a cause of concern.\n",
        "\n",
        "The revenue is dominated by the product category \"Set,\" which accounts for 49.88% of total revenue, followed by kurta with 27.09% and Western Dress with 14.28%.\n",
        "\n",
        "The top 5 product categories by average price in dollars are Set ($9.43), Saree (\\$9.14), Western Dress ($8.75), Ethnic Dress (\\$8.26), and Top ($6.09), indicating that these products are high-value orders.\n",
        "\n",
        "The total number of cancelled and returned orders was 49,178, which represents 17.53% of all orders. Of these, 14.22% were cancelled and 1.64% were returned.\n",
        "\n",
        "The average order amount by customer type is $8.21 for business customers and \\$7.37 for regular customers.\n",
        "\n",
        "The most popular product category varies by state, and it may be worthwhile to analyze the reasons behind these trends and invest in marketing campaigns or promotions accordingly.\n",
        "\n"
      ],
      "metadata": {
        "id": "WOqcRdE3G9gI"
      }
    },
    {
      "cell_type": "markdown",
      "source": [
        "##Importing the Librabries and Modules"
      ],
      "metadata": {
        "id": "7eqQjkajHCvy"
      }
    },
    {
      "cell_type": "code",
      "execution_count": null,
      "metadata": {
        "id": "ttINecT3WsDC"
      },
      "outputs": [],
      "source": [
        "import pandas as pd\n",
        "import numpy as np\n",
        "import plotly.express as px\n",
        "import seaborn as sns\n",
        "import matplotlib.pyplot as plt"
      ]
    },
    {
      "cell_type": "code",
      "source": [
        "df = pd.read_csv('//content/amazon.csv')"
      ],
      "metadata": {
        "id": "aQl9vjcdcZQw"
      },
      "execution_count": null,
      "outputs": []
    },
    {
      "cell_type": "code",
      "source": [
        "from google.colab import drive\n",
        "drive.mount('/content/drive')"
      ],
      "metadata": {
        "id": "SmCln4Bhogzk",
        "colab": {
          "base_uri": "https://localhost:8080/"
        },
        "outputId": "eaa4034e-bab1-42e5-b683-e4396ddeb39c"
      },
      "execution_count": null,
      "outputs": [
        {
          "output_type": "stream",
          "name": "stdout",
          "text": [
            "Mounted at /content/drive\n"
          ]
        }
      ]
    },
    {
      "cell_type": "markdown",
      "source": [
        "##DATA CLEANING & PREPARATION\n"
      ],
      "metadata": {
        "id": "4M4mzsKkFmhX"
      }
    },
    {
      "cell_type": "markdown",
      "source": [
        "Before making analyzing the data, it is important to clean and prepare data. The methods used to clean and prepare the data are as listed below:\n",
        "\n",
        "\n",
        "*   Changing Data Types of Columns from object to Floats\n",
        "*   Filling in Missing Information\n",
        "*   Checking For Duplicate Rows\n",
        "*   Splitting Long Strings\n",
        "*  Creating Various New Columns\n",
        "\n",
        "\n"
      ],
      "metadata": {
        "id": "0cCai2vnFoPV"
      }
    },
    {
      "cell_type": "code",
      "source": [
        "df.head()\n"
      ],
      "metadata": {
        "colab": {
          "base_uri": "https://localhost:8080/",
          "height": 539
        },
        "id": "pOuBSdsYcf6X",
        "outputId": "62c492cd-7771-45d9-df97-cc70c86518b8"
      },
      "execution_count": null,
      "outputs": [
        {
          "output_type": "execute_result",
          "data": {
            "text/plain": [
              "   product_id                                       product_name  \\\n",
              "0  B07JW9H4J1  Wayona Nylon Braided USB to Lightning Fast Cha...   \n",
              "1  B098NS6PVG  Ambrane Unbreakable 60W / 3A Fast Charging 1.5...   \n",
              "2  B096MSW6CT  Sounce Fast Phone Charging Cable & Data Sync U...   \n",
              "3  B08HDJ86NZ  boAt Deuce USB 300 2 in 1 Type-C & Micro USB S...   \n",
              "4  B08CF3B7N1  Portronics Konnect L 1.2M Fast Charging 3A 8 P...   \n",
              "\n",
              "                                            category discounted_price  \\\n",
              "0  Computers&Accessories|Accessories&Peripherals|...             ₹399   \n",
              "1  Computers&Accessories|Accessories&Peripherals|...             ₹199   \n",
              "2  Computers&Accessories|Accessories&Peripherals|...             ₹199   \n",
              "3  Computers&Accessories|Accessories&Peripherals|...             ₹329   \n",
              "4  Computers&Accessories|Accessories&Peripherals|...             ₹154   \n",
              "\n",
              "  actual_price discount_percentage rating rating_count  \\\n",
              "0       ₹1,099                 64%    4.2       24,269   \n",
              "1         ₹349                 43%    4.0       43,994   \n",
              "2       ₹1,899                 90%    3.9        7,928   \n",
              "3         ₹699                 53%    4.2       94,363   \n",
              "4         ₹399                 61%    4.2       16,905   \n",
              "\n",
              "                                       about_product  \\\n",
              "0  High Compatibility : Compatible With iPhone 12...   \n",
              "1  Compatible with all Type C enabled devices, be...   \n",
              "2  【 Fast Charger& Data Sync】-With built-in safet...   \n",
              "3  The boAt Deuce USB 300 2 in 1 cable is compati...   \n",
              "4  [CHARGE & SYNC FUNCTION]- This cable comes wit...   \n",
              "\n",
              "                                             user_id  \\\n",
              "0  AG3D6O4STAQKAY2UVGEUV46KN35Q,AHMY5CWJMMK5BJRBB...   \n",
              "1  AECPFYFQVRUWC3KGNLJIOREFP5LQ,AGYYVPDD7YG7FYNBX...   \n",
              "2  AGU3BBQ2V2DDAMOAKGFAWDDQ6QHA,AESFLDV2PT363T2AQ...   \n",
              "3  AEWAZDZZJLQUYVOVGBEUKSLXHQ5A,AG5HTSFRRE6NL3M5S...   \n",
              "4  AE3Q6KSUK5P75D5HFYHCRAOLODSA,AFUGIFH5ZAFXRDSZH...   \n",
              "\n",
              "                                           user_name  \\\n",
              "0  Manav,Adarsh gupta,Sundeep,S.Sayeed Ahmed,jasp...   \n",
              "1  ArdKn,Nirbhay kumar,Sagar Viswanathan,Asp,Plac...   \n",
              "2  Kunal,Himanshu,viswanath,sai niharka,saqib mal...   \n",
              "3  Omkar dhale,JD,HEMALATHA,Ajwadh a.,amar singh ...   \n",
              "4  rahuls6099,Swasat Borah,Ajay Wadke,Pranali,RVK...   \n",
              "\n",
              "                                           review_id  \\\n",
              "0  R3HXWT0LRP0NMF,R2AJM3LFTLZHFO,R6AQJGUP6P86,R1K...   \n",
              "1  RGIQEG07R9HS2,R1SMWZQ86XIN8U,R2J3Y1WL29GWDE,RY...   \n",
              "2  R3J3EQQ9TZI5ZJ,R3E7WBGK7ID0KV,RWU79XKQ6I1QF,R2...   \n",
              "3  R3EEUZKKK9J36I,R3HJVYCLYOY554,REDECAZ7AMPQC,R1...   \n",
              "4  R1BP4L2HH9TFUP,R16PVJEXKV6QZS,R2UPDB81N66T4P,R...   \n",
              "\n",
              "                                        review_title  \\\n",
              "0  Satisfied,Charging is really fast,Value for mo...   \n",
              "1  A Good Braided Cable for Your Type C Device,Go...   \n",
              "2  Good speed for earlier versions,Good Product,W...   \n",
              "3  Good product,Good one,Nice,Really nice product...   \n",
              "4  As good as original,Decent,Good one for second...   \n",
              "\n",
              "                                      review_content  \\\n",
              "0  Looks durable Charging is fine tooNo complains...   \n",
              "1  I ordered this cable to connect my phone to An...   \n",
              "2  Not quite durable and sturdy,https://m.media-a...   \n",
              "3  Good product,long wire,Charges good,Nice,I bou...   \n",
              "4  Bought this instead of original apple, does th...   \n",
              "\n",
              "                                            img_link  \\\n",
              "0  https://m.media-amazon.com/images/W/WEBP_40237...   \n",
              "1  https://m.media-amazon.com/images/W/WEBP_40237...   \n",
              "2  https://m.media-amazon.com/images/W/WEBP_40237...   \n",
              "3  https://m.media-amazon.com/images/I/41V5FtEWPk...   \n",
              "4  https://m.media-amazon.com/images/W/WEBP_40237...   \n",
              "\n",
              "                                        product_link  \n",
              "0  https://www.amazon.in/Wayona-Braided-WN3LG1-Sy...  \n",
              "1  https://www.amazon.in/Ambrane-Unbreakable-Char...  \n",
              "2  https://www.amazon.in/Sounce-iPhone-Charging-C...  \n",
              "3  https://www.amazon.in/Deuce-300-Resistant-Tang...  \n",
              "4  https://www.amazon.in/Portronics-Konnect-POR-1...  "
            ],
            "text/html": [
              "\n",
              "  <div id=\"df-cda2f4a9-543b-4941-9f74-ffb2191b44b1\" class=\"colab-df-container\">\n",
              "    <div>\n",
              "<style scoped>\n",
              "    .dataframe tbody tr th:only-of-type {\n",
              "        vertical-align: middle;\n",
              "    }\n",
              "\n",
              "    .dataframe tbody tr th {\n",
              "        vertical-align: top;\n",
              "    }\n",
              "\n",
              "    .dataframe thead th {\n",
              "        text-align: right;\n",
              "    }\n",
              "</style>\n",
              "<table border=\"1\" class=\"dataframe\">\n",
              "  <thead>\n",
              "    <tr style=\"text-align: right;\">\n",
              "      <th></th>\n",
              "      <th>product_id</th>\n",
              "      <th>product_name</th>\n",
              "      <th>category</th>\n",
              "      <th>discounted_price</th>\n",
              "      <th>actual_price</th>\n",
              "      <th>discount_percentage</th>\n",
              "      <th>rating</th>\n",
              "      <th>rating_count</th>\n",
              "      <th>about_product</th>\n",
              "      <th>user_id</th>\n",
              "      <th>user_name</th>\n",
              "      <th>review_id</th>\n",
              "      <th>review_title</th>\n",
              "      <th>review_content</th>\n",
              "      <th>img_link</th>\n",
              "      <th>product_link</th>\n",
              "    </tr>\n",
              "  </thead>\n",
              "  <tbody>\n",
              "    <tr>\n",
              "      <th>0</th>\n",
              "      <td>B07JW9H4J1</td>\n",
              "      <td>Wayona Nylon Braided USB to Lightning Fast Cha...</td>\n",
              "      <td>Computers&amp;Accessories|Accessories&amp;Peripherals|...</td>\n",
              "      <td>₹399</td>\n",
              "      <td>₹1,099</td>\n",
              "      <td>64%</td>\n",
              "      <td>4.2</td>\n",
              "      <td>24,269</td>\n",
              "      <td>High Compatibility : Compatible With iPhone 12...</td>\n",
              "      <td>AG3D6O4STAQKAY2UVGEUV46KN35Q,AHMY5CWJMMK5BJRBB...</td>\n",
              "      <td>Manav,Adarsh gupta,Sundeep,S.Sayeed Ahmed,jasp...</td>\n",
              "      <td>R3HXWT0LRP0NMF,R2AJM3LFTLZHFO,R6AQJGUP6P86,R1K...</td>\n",
              "      <td>Satisfied,Charging is really fast,Value for mo...</td>\n",
              "      <td>Looks durable Charging is fine tooNo complains...</td>\n",
              "      <td>https://m.media-amazon.com/images/W/WEBP_40237...</td>\n",
              "      <td>https://www.amazon.in/Wayona-Braided-WN3LG1-Sy...</td>\n",
              "    </tr>\n",
              "    <tr>\n",
              "      <th>1</th>\n",
              "      <td>B098NS6PVG</td>\n",
              "      <td>Ambrane Unbreakable 60W / 3A Fast Charging 1.5...</td>\n",
              "      <td>Computers&amp;Accessories|Accessories&amp;Peripherals|...</td>\n",
              "      <td>₹199</td>\n",
              "      <td>₹349</td>\n",
              "      <td>43%</td>\n",
              "      <td>4.0</td>\n",
              "      <td>43,994</td>\n",
              "      <td>Compatible with all Type C enabled devices, be...</td>\n",
              "      <td>AECPFYFQVRUWC3KGNLJIOREFP5LQ,AGYYVPDD7YG7FYNBX...</td>\n",
              "      <td>ArdKn,Nirbhay kumar,Sagar Viswanathan,Asp,Plac...</td>\n",
              "      <td>RGIQEG07R9HS2,R1SMWZQ86XIN8U,R2J3Y1WL29GWDE,RY...</td>\n",
              "      <td>A Good Braided Cable for Your Type C Device,Go...</td>\n",
              "      <td>I ordered this cable to connect my phone to An...</td>\n",
              "      <td>https://m.media-amazon.com/images/W/WEBP_40237...</td>\n",
              "      <td>https://www.amazon.in/Ambrane-Unbreakable-Char...</td>\n",
              "    </tr>\n",
              "    <tr>\n",
              "      <th>2</th>\n",
              "      <td>B096MSW6CT</td>\n",
              "      <td>Sounce Fast Phone Charging Cable &amp; Data Sync U...</td>\n",
              "      <td>Computers&amp;Accessories|Accessories&amp;Peripherals|...</td>\n",
              "      <td>₹199</td>\n",
              "      <td>₹1,899</td>\n",
              "      <td>90%</td>\n",
              "      <td>3.9</td>\n",
              "      <td>7,928</td>\n",
              "      <td>【 Fast Charger&amp; Data Sync】-With built-in safet...</td>\n",
              "      <td>AGU3BBQ2V2DDAMOAKGFAWDDQ6QHA,AESFLDV2PT363T2AQ...</td>\n",
              "      <td>Kunal,Himanshu,viswanath,sai niharka,saqib mal...</td>\n",
              "      <td>R3J3EQQ9TZI5ZJ,R3E7WBGK7ID0KV,RWU79XKQ6I1QF,R2...</td>\n",
              "      <td>Good speed for earlier versions,Good Product,W...</td>\n",
              "      <td>Not quite durable and sturdy,https://m.media-a...</td>\n",
              "      <td>https://m.media-amazon.com/images/W/WEBP_40237...</td>\n",
              "      <td>https://www.amazon.in/Sounce-iPhone-Charging-C...</td>\n",
              "    </tr>\n",
              "    <tr>\n",
              "      <th>3</th>\n",
              "      <td>B08HDJ86NZ</td>\n",
              "      <td>boAt Deuce USB 300 2 in 1 Type-C &amp; Micro USB S...</td>\n",
              "      <td>Computers&amp;Accessories|Accessories&amp;Peripherals|...</td>\n",
              "      <td>₹329</td>\n",
              "      <td>₹699</td>\n",
              "      <td>53%</td>\n",
              "      <td>4.2</td>\n",
              "      <td>94,363</td>\n",
              "      <td>The boAt Deuce USB 300 2 in 1 cable is compati...</td>\n",
              "      <td>AEWAZDZZJLQUYVOVGBEUKSLXHQ5A,AG5HTSFRRE6NL3M5S...</td>\n",
              "      <td>Omkar dhale,JD,HEMALATHA,Ajwadh a.,amar singh ...</td>\n",
              "      <td>R3EEUZKKK9J36I,R3HJVYCLYOY554,REDECAZ7AMPQC,R1...</td>\n",
              "      <td>Good product,Good one,Nice,Really nice product...</td>\n",
              "      <td>Good product,long wire,Charges good,Nice,I bou...</td>\n",
              "      <td>https://m.media-amazon.com/images/I/41V5FtEWPk...</td>\n",
              "      <td>https://www.amazon.in/Deuce-300-Resistant-Tang...</td>\n",
              "    </tr>\n",
              "    <tr>\n",
              "      <th>4</th>\n",
              "      <td>B08CF3B7N1</td>\n",
              "      <td>Portronics Konnect L 1.2M Fast Charging 3A 8 P...</td>\n",
              "      <td>Computers&amp;Accessories|Accessories&amp;Peripherals|...</td>\n",
              "      <td>₹154</td>\n",
              "      <td>₹399</td>\n",
              "      <td>61%</td>\n",
              "      <td>4.2</td>\n",
              "      <td>16,905</td>\n",
              "      <td>[CHARGE &amp; SYNC FUNCTION]- This cable comes wit...</td>\n",
              "      <td>AE3Q6KSUK5P75D5HFYHCRAOLODSA,AFUGIFH5ZAFXRDSZH...</td>\n",
              "      <td>rahuls6099,Swasat Borah,Ajay Wadke,Pranali,RVK...</td>\n",
              "      <td>R1BP4L2HH9TFUP,R16PVJEXKV6QZS,R2UPDB81N66T4P,R...</td>\n",
              "      <td>As good as original,Decent,Good one for second...</td>\n",
              "      <td>Bought this instead of original apple, does th...</td>\n",
              "      <td>https://m.media-amazon.com/images/W/WEBP_40237...</td>\n",
              "      <td>https://www.amazon.in/Portronics-Konnect-POR-1...</td>\n",
              "    </tr>\n",
              "  </tbody>\n",
              "</table>\n",
              "</div>\n",
              "    <div class=\"colab-df-buttons\">\n",
              "\n",
              "  <div class=\"colab-df-container\">\n",
              "    <button class=\"colab-df-convert\" onclick=\"convertToInteractive('df-cda2f4a9-543b-4941-9f74-ffb2191b44b1')\"\n",
              "            title=\"Convert this dataframe to an interactive table.\"\n",
              "            style=\"display:none;\">\n",
              "\n",
              "  <svg xmlns=\"http://www.w3.org/2000/svg\" height=\"24px\" viewBox=\"0 -960 960 960\">\n",
              "    <path d=\"M120-120v-720h720v720H120Zm60-500h600v-160H180v160Zm220 220h160v-160H400v160Zm0 220h160v-160H400v160ZM180-400h160v-160H180v160Zm440 0h160v-160H620v160ZM180-180h160v-160H180v160Zm440 0h160v-160H620v160Z\"/>\n",
              "  </svg>\n",
              "    </button>\n",
              "\n",
              "  <style>\n",
              "    .colab-df-container {\n",
              "      display:flex;\n",
              "      gap: 12px;\n",
              "    }\n",
              "\n",
              "    .colab-df-convert {\n",
              "      background-color: #E8F0FE;\n",
              "      border: none;\n",
              "      border-radius: 50%;\n",
              "      cursor: pointer;\n",
              "      display: none;\n",
              "      fill: #1967D2;\n",
              "      height: 32px;\n",
              "      padding: 0 0 0 0;\n",
              "      width: 32px;\n",
              "    }\n",
              "\n",
              "    .colab-df-convert:hover {\n",
              "      background-color: #E2EBFA;\n",
              "      box-shadow: 0px 1px 2px rgba(60, 64, 67, 0.3), 0px 1px 3px 1px rgba(60, 64, 67, 0.15);\n",
              "      fill: #174EA6;\n",
              "    }\n",
              "\n",
              "    .colab-df-buttons div {\n",
              "      margin-bottom: 4px;\n",
              "    }\n",
              "\n",
              "    [theme=dark] .colab-df-convert {\n",
              "      background-color: #3B4455;\n",
              "      fill: #D2E3FC;\n",
              "    }\n",
              "\n",
              "    [theme=dark] .colab-df-convert:hover {\n",
              "      background-color: #434B5C;\n",
              "      box-shadow: 0px 1px 3px 1px rgba(0, 0, 0, 0.15);\n",
              "      filter: drop-shadow(0px 1px 2px rgba(0, 0, 0, 0.3));\n",
              "      fill: #FFFFFF;\n",
              "    }\n",
              "  </style>\n",
              "\n",
              "    <script>\n",
              "      const buttonEl =\n",
              "        document.querySelector('#df-cda2f4a9-543b-4941-9f74-ffb2191b44b1 button.colab-df-convert');\n",
              "      buttonEl.style.display =\n",
              "        google.colab.kernel.accessAllowed ? 'block' : 'none';\n",
              "\n",
              "      async function convertToInteractive(key) {\n",
              "        const element = document.querySelector('#df-cda2f4a9-543b-4941-9f74-ffb2191b44b1');\n",
              "        const dataTable =\n",
              "          await google.colab.kernel.invokeFunction('convertToInteractive',\n",
              "                                                    [key], {});\n",
              "        if (!dataTable) return;\n",
              "\n",
              "        const docLinkHtml = 'Like what you see? Visit the ' +\n",
              "          '<a target=\"_blank\" href=https://colab.research.google.com/notebooks/data_table.ipynb>data table notebook</a>'\n",
              "          + ' to learn more about interactive tables.';\n",
              "        element.innerHTML = '';\n",
              "        dataTable['output_type'] = 'display_data';\n",
              "        await google.colab.output.renderOutput(dataTable, element);\n",
              "        const docLink = document.createElement('div');\n",
              "        docLink.innerHTML = docLinkHtml;\n",
              "        element.appendChild(docLink);\n",
              "      }\n",
              "    </script>\n",
              "  </div>\n",
              "\n",
              "\n",
              "<div id=\"df-27c24555-0dfe-4cf1-af79-ad0957857a40\">\n",
              "  <button class=\"colab-df-quickchart\" onclick=\"quickchart('df-27c24555-0dfe-4cf1-af79-ad0957857a40')\"\n",
              "            title=\"Suggest charts\"\n",
              "            style=\"display:none;\">\n",
              "\n",
              "<svg xmlns=\"http://www.w3.org/2000/svg\" height=\"24px\"viewBox=\"0 0 24 24\"\n",
              "     width=\"24px\">\n",
              "    <g>\n",
              "        <path d=\"M19 3H5c-1.1 0-2 .9-2 2v14c0 1.1.9 2 2 2h14c1.1 0 2-.9 2-2V5c0-1.1-.9-2-2-2zM9 17H7v-7h2v7zm4 0h-2V7h2v10zm4 0h-2v-4h2v4z\"/>\n",
              "    </g>\n",
              "</svg>\n",
              "  </button>\n",
              "\n",
              "<style>\n",
              "  .colab-df-quickchart {\n",
              "      --bg-color: #E8F0FE;\n",
              "      --fill-color: #1967D2;\n",
              "      --hover-bg-color: #E2EBFA;\n",
              "      --hover-fill-color: #174EA6;\n",
              "      --disabled-fill-color: #AAA;\n",
              "      --disabled-bg-color: #DDD;\n",
              "  }\n",
              "\n",
              "  [theme=dark] .colab-df-quickchart {\n",
              "      --bg-color: #3B4455;\n",
              "      --fill-color: #D2E3FC;\n",
              "      --hover-bg-color: #434B5C;\n",
              "      --hover-fill-color: #FFFFFF;\n",
              "      --disabled-bg-color: #3B4455;\n",
              "      --disabled-fill-color: #666;\n",
              "  }\n",
              "\n",
              "  .colab-df-quickchart {\n",
              "    background-color: var(--bg-color);\n",
              "    border: none;\n",
              "    border-radius: 50%;\n",
              "    cursor: pointer;\n",
              "    display: none;\n",
              "    fill: var(--fill-color);\n",
              "    height: 32px;\n",
              "    padding: 0;\n",
              "    width: 32px;\n",
              "  }\n",
              "\n",
              "  .colab-df-quickchart:hover {\n",
              "    background-color: var(--hover-bg-color);\n",
              "    box-shadow: 0 1px 2px rgba(60, 64, 67, 0.3), 0 1px 3px 1px rgba(60, 64, 67, 0.15);\n",
              "    fill: var(--button-hover-fill-color);\n",
              "  }\n",
              "\n",
              "  .colab-df-quickchart-complete:disabled,\n",
              "  .colab-df-quickchart-complete:disabled:hover {\n",
              "    background-color: var(--disabled-bg-color);\n",
              "    fill: var(--disabled-fill-color);\n",
              "    box-shadow: none;\n",
              "  }\n",
              "\n",
              "  .colab-df-spinner {\n",
              "    border: 2px solid var(--fill-color);\n",
              "    border-color: transparent;\n",
              "    border-bottom-color: var(--fill-color);\n",
              "    animation:\n",
              "      spin 1s steps(1) infinite;\n",
              "  }\n",
              "\n",
              "  @keyframes spin {\n",
              "    0% {\n",
              "      border-color: transparent;\n",
              "      border-bottom-color: var(--fill-color);\n",
              "      border-left-color: var(--fill-color);\n",
              "    }\n",
              "    20% {\n",
              "      border-color: transparent;\n",
              "      border-left-color: var(--fill-color);\n",
              "      border-top-color: var(--fill-color);\n",
              "    }\n",
              "    30% {\n",
              "      border-color: transparent;\n",
              "      border-left-color: var(--fill-color);\n",
              "      border-top-color: var(--fill-color);\n",
              "      border-right-color: var(--fill-color);\n",
              "    }\n",
              "    40% {\n",
              "      border-color: transparent;\n",
              "      border-right-color: var(--fill-color);\n",
              "      border-top-color: var(--fill-color);\n",
              "    }\n",
              "    60% {\n",
              "      border-color: transparent;\n",
              "      border-right-color: var(--fill-color);\n",
              "    }\n",
              "    80% {\n",
              "      border-color: transparent;\n",
              "      border-right-color: var(--fill-color);\n",
              "      border-bottom-color: var(--fill-color);\n",
              "    }\n",
              "    90% {\n",
              "      border-color: transparent;\n",
              "      border-bottom-color: var(--fill-color);\n",
              "    }\n",
              "  }\n",
              "</style>\n",
              "\n",
              "  <script>\n",
              "    async function quickchart(key) {\n",
              "      const quickchartButtonEl =\n",
              "        document.querySelector('#' + key + ' button');\n",
              "      quickchartButtonEl.disabled = true;  // To prevent multiple clicks.\n",
              "      quickchartButtonEl.classList.add('colab-df-spinner');\n",
              "      try {\n",
              "        const charts = await google.colab.kernel.invokeFunction(\n",
              "            'suggestCharts', [key], {});\n",
              "      } catch (error) {\n",
              "        console.error('Error during call to suggestCharts:', error);\n",
              "      }\n",
              "      quickchartButtonEl.classList.remove('colab-df-spinner');\n",
              "      quickchartButtonEl.classList.add('colab-df-quickchart-complete');\n",
              "    }\n",
              "    (() => {\n",
              "      let quickchartButtonEl =\n",
              "        document.querySelector('#df-27c24555-0dfe-4cf1-af79-ad0957857a40 button');\n",
              "      quickchartButtonEl.style.display =\n",
              "        google.colab.kernel.accessAllowed ? 'block' : 'none';\n",
              "    })();\n",
              "  </script>\n",
              "</div>\n",
              "\n",
              "    </div>\n",
              "  </div>\n"
            ],
            "application/vnd.google.colaboratory.intrinsic+json": {
              "type": "dataframe",
              "variable_name": "df",
              "summary": "{\n  \"name\": \"df\",\n  \"rows\": 1465,\n  \"fields\": [\n    {\n      \"column\": \"product_id\",\n      \"properties\": {\n        \"dtype\": \"string\",\n        \"num_unique_values\": 1351,\n        \"samples\": [\n          \"B09GFLXVH9\",\n          \"B0BC9BW512\",\n          \"B097JVLW3L\"\n        ],\n        \"semantic_type\": \"\",\n        \"description\": \"\"\n      }\n    },\n    {\n      \"column\": \"product_name\",\n      \"properties\": {\n        \"dtype\": \"string\",\n        \"num_unique_values\": 1337,\n        \"samples\": [\n          \"Glun Multipurpose Portable Electronic Digital Weighing Scale Weight Machine (10 Kg - with Back Light)\",\n          \"Akiara\\u00ae - Makes life easy Mini Sewing Machine with Table Set | Tailoring Machine | Hand Sewing Machine with extension table, foot pedal, adapter\",\n          \"TTK Prestige Limited Orion Mixer Grinder 500 Watts, 3 Jars (1200ml, 1000ml, 500ml) (Red)\"\n        ],\n        \"semantic_type\": \"\",\n        \"description\": \"\"\n      }\n    },\n    {\n      \"column\": \"category\",\n      \"properties\": {\n        \"dtype\": \"category\",\n        \"num_unique_values\": 211,\n        \"samples\": [\n          \"Electronics|Mobiles&Accessories|MobileAccessories|Photo&VideoAccessories|SelfieSticks\",\n          \"Home&Kitchen|Kitchen&HomeAppliances|Coffee,Tea&Espresso|CoffeeGrinders|ElectricGrinders\",\n          \"Computers&Accessories|Accessories&Peripherals|HardDriveAccessories|Caddies\"\n        ],\n        \"semantic_type\": \"\",\n        \"description\": \"\"\n      }\n    },\n    {\n      \"column\": \"discounted_price\",\n      \"properties\": {\n        \"dtype\": \"category\",\n        \"num_unique_values\": 550,\n        \"samples\": [\n          \"\\u20b920,999\",\n          \"\\u20b91,699\",\n          \"\\u20b9419\"\n        ],\n        \"semantic_type\": \"\",\n        \"description\": \"\"\n      }\n    },\n    {\n      \"column\": \"actual_price\",\n      \"properties\": {\n        \"dtype\": \"category\",\n        \"num_unique_values\": 449,\n        \"samples\": [\n          \"\\u20b93,210\",\n          \"\\u20b91,129\",\n          \"\\u20b94,500\"\n        ],\n        \"semantic_type\": \"\",\n        \"description\": \"\"\n      }\n    },\n    {\n      \"column\": \"discount_percentage\",\n      \"properties\": {\n        \"dtype\": \"category\",\n        \"num_unique_values\": 92,\n        \"samples\": [\n          \"86%\",\n          \"72%\",\n          \"26%\"\n        ],\n        \"semantic_type\": \"\",\n        \"description\": \"\"\n      }\n    },\n    {\n      \"column\": \"rating\",\n      \"properties\": {\n        \"dtype\": \"category\",\n        \"num_unique_values\": 28,\n        \"samples\": [\n          \"3.6\",\n          \"3\",\n          \"3.3\"\n        ],\n        \"semantic_type\": \"\",\n        \"description\": \"\"\n      }\n    },\n    {\n      \"column\": \"rating_count\",\n      \"properties\": {\n        \"dtype\": \"string\",\n        \"num_unique_values\": 1143,\n        \"samples\": [\n          \"197\",\n          \"7,945\",\n          \"1,40,036\"\n        ],\n        \"semantic_type\": \"\",\n        \"description\": \"\"\n      }\n    },\n    {\n      \"column\": \"about_product\",\n      \"properties\": {\n        \"dtype\": \"string\",\n        \"num_unique_values\": 1293,\n        \"samples\": [\n          \"Advanced Bluetooth calling: Upgrade to an effortless calling experience - attend/reject calls and dial numbers, from your wrist.;Digital crown: Navigate through the watch, adjust volume and change the watch face via the fully-functional crown.|1.72\\u2019\\u2019display: ColorFit Pro 4 features 1.72\\u2019\\u2019 TFT LCD with 25% more screen area than ColorFit Pro 3.;Vivid clarity: View information under the brightest sun, thanks to 311 PPI and 500 nits of brightness.|60Hz refresh rate: Get smoother scrolling & navigation experience.;100 sports modes: Take your pick from 100 sports modes and ace your game.|Noise Health Suite: Know how your body is doing with the battery of fitness features.;Productivity suite: Get more work done with quick reply options, stock market updates, alarm and disconnect with smart DND when you want to.; Water Resistance Level: Water Resistant|Item Type Name: Smartwatch; Connectivity Technology: Usb; Included Components: \\u200eSmartwatch, Magnetic Charger, User Manual, Warranty Card\",\n          \"Fire-Boltt is India' No 1 Wearable Watch Brand Q122 by IDC Worldwide quarterly wearable device tracker Q122.\\u30101.69\\u201d HD Large Touch Screen\\u3011- Fire-Boltt Ninja 3 comes with a 1.69\\u201d HD Full Touch Display for smooth swipes and clear vision;\\u3010SPO2/ Oxygen, Heart Rate\\u3011 - Fire-Boltt Ninja 3 Smartwatch comes with real time 24*7 SPO2 / Blood Oxygen tracking, Dynamic Heart Rate Monitoring (If a patient is suffering from Covid 19 please use a medical device prescribed by the Doctor)|\\u301060 workout modes\\u3011- This smartwatch consists of 60 sports mode to track. Keep a track of all your activities and compare history to analyse your performance. Count steps, distance, and calories burned.;\\u3010IP68 Water Resistant\\u3011- This smartwatch can withstand dust, spills, raindrops and is sweatproof too|\\u3010POWERFUL BATTERY\\u3011 - About 7 days battery life and a Standby Time of 25 Days \\u3010Multiple Watch Faces\\u3011- Unlimited Customized Built in Watch Faces and also multiple watch faces through the app;\\u3010Stay Social Stay Updated\\u3011 \\u2013 Inbuilt Social Media Notifications.|\\u3010All In One Smart Coach\\u3011 - Track your Daily Steps, Sleep, Fitness, Sports, Heart Rate and SPO2 \\u3010Enjoy Music And Camera Control\\u3011 \\u3010IP68 Water Resistant\\u3011- This smartwatch can withstand dust, spills, raindrops and is sweatproof too; Water Resistance Level: water_resistant|Connectivity Technology: Bluetooth; Clasp Type: Tang Buckle; Compatible Devices: Smartphonetablet; Human Interface Input: Touch Screenbuttons; Item Type Name: Smart Watch; Included Components: 1 Smartwatch, 1 Manual, 1 Magnetic Charger, 1 Warranty Card; Band Color: Green; Band Material Type: Silicone; Case Material Type: Plastic; Color Name: Green\",\n          \"Keyboard : Standard keyboard|Rupee key, Comfortable|Silent Durable keys|Mouse : Ergonomic design, Accurate optical sensor|High resolution enabling faster navigation\"\n        ],\n        \"semantic_type\": \"\",\n        \"description\": \"\"\n      }\n    },\n    {\n      \"column\": \"user_id\",\n      \"properties\": {\n        \"dtype\": \"string\",\n        \"num_unique_values\": 1194,\n        \"samples\": [\n          \"AEWW4LJOVXD65UKE7QCBCHQZMG7A,AGVWB5YTQZC7GAIV4PCCOFF2U27A,AFUR2THG6BYV6IRA5JV6LBQNG2AA,AFSG5TXKKCLHBK3FABKJABBBUHEQ,AF2DOUVTY5LHTVWGGVE6YHW5KEGA,AFEX5OM5UOST6POIWTBW6TCEZ2YA,AFKZZOQ7J2SOXP3OHFBEDXNFINCQ,AFD6P5IRXY6KWXUW4H7X6ECRMSLA\",\n          \"AG65C34LATM4J3ZFKJJPDNISZKUQ,AG76GICZHJGA7YVN4TORX36ONVYA,AHHIHCEKEYDIRPJ5W7WXGLB3E66Q,AFYSF6635O2EAPR4GMVBH74FSIFQ,AHAVRPA7Z3PKTTWVBVUISCKI7RYQ,AEDH674UH53A5FKLUZCCM5LVKUQQ,AEUK344UA4FNU4PR4AWSPKWX5PPQ,AGPAK6ELVZPVKQ7GEZ7IUHNK2C3Q\",\n          \"AE3S2ZAEMH765KUJ57DR6HBZBB3Q,AHSIVUNTJMI5S5AJGFDE5EDQ355Q,AGQUDHVCMBW7DYS2HT5HA3QCZIEA,AFNXZNINQLTHKVRFI37VQAAFFGOA,AGVKQNHNS7PQK63FIB6EVC5GUAMQ,AEHZ4NOZ5SIDQLGODWS4UZ6RVQJA,AGBVAEUPMWYCDQIKNAD2DXEYWXZA,AEOJW7OWUZROZ6Z66ZQU33Y2ZYLQ\"\n        ],\n        \"semantic_type\": \"\",\n        \"description\": \"\"\n      }\n    },\n    {\n      \"column\": \"user_name\",\n      \"properties\": {\n        \"dtype\": \"string\",\n        \"num_unique_values\": 1194,\n        \"samples\": [\n          \"Kindle Customer,Aryan,pooja reddy,Amazon Customer,Meenakshi jasrotia,imamthulla,Anan,Sanjay Chavan\",\n          \"zain,Deepak,VIMAL,Shiv Sagar,Tamil selvan,Rakesh yadav,PAGOLA SURESH,Olivia\",\n          \"Fardeen mujawar,Pavan,Danny,Siddhartha Pratap,Rabindra Kumar Das,Amazon Customer,Rakesh Ranga Yadav,Nivedita Chatterjee\"\n        ],\n        \"semantic_type\": \"\",\n        \"description\": \"\"\n      }\n    },\n    {\n      \"column\": \"review_id\",\n      \"properties\": {\n        \"dtype\": \"string\",\n        \"num_unique_values\": 1194,\n        \"samples\": [\n          \"R1T4TKPYU5EJCB,R1D38AX8G0RVNS,R1KHCRDEEREQG7,R396UL83OTSD8F,R3CY781PK5CB8A,RBCCWRI4IUHH5,R2K7JYQMGQ31YJ,R3P0GJ4V5HPF2M\",\n          \"R2JCUKBR0BQ8ES,RNVX0V6SJF3CP,RW5MJG9LTX6QD,R37PSG13H70Z1F,R17RIHK0XXQDH5,R2P187SBO4SEMH,R1V49G7PD8Y93G,RU78E5A4MW0PK\",\n          \"RD6OIJUG0R241,R3EUJ7A6LG8X7V,R1DWGT4USEVGYK,R187KH5XJBPS86,R2XYH31E9NK0GU,RDYNZZPHU7SZK,R2MR0DYZVFN3HA,R3PV91U8ZYN5DU\"\n        ],\n        \"semantic_type\": \"\",\n        \"description\": \"\"\n      }\n    },\n    {\n      \"column\": \"review_title\",\n      \"properties\": {\n        \"dtype\": \"string\",\n        \"num_unique_values\": 1194,\n        \"samples\": [\n          \"Clearly makes a difference,Good,Value for money,Good material,The ink of parker is very lite,Good,Good,Very good\",\n          \"Good product with less money,At this price ok ok.,Good product,Good mouse at this price range,Good,Good for daily use ke liye,Good,Good\",\n          \"Ok,Like all other ball pens,Regular pen over priced,Nice,It is fine.,Awful blue ink,Nice and my Favorite Pen,Reasonable price\"\n        ],\n        \"semantic_type\": \"\",\n        \"description\": \"\"\n      }\n    },\n    {\n      \"column\": \"review_content\",\n      \"properties\": {\n        \"dtype\": \"string\",\n        \"num_unique_values\": 1212,\n        \"samples\": [\n          \"Reviewing just after a day of using this product. We made French fries and chicken tikka and result is quiet impressive! The recipe book and cooking tips from the given QR code is really helpful. Hope it serves for a long time.Not to forget about the beautiful bottle green and golden look of it.,,https://m.media-amazon.com/images/I/81lT2gsd9sL._SY88.jpg,No detailed user manual.. no idea about the cooking time. How to use is not describe.,It works well and plastic quality is poor but it can wothstand the temperature for sure. Its not a toy to look for high quality plastic. And for the half the price that the other models, we can ignore that.Functionality wise its perfect.Just buy it,Don't go for costly products as it is available in a reasonable price and it has so many great features. I'm happy with it,Pigeon never dissapointd with their quality. The best way to have healthy, crispy food.,The outcome of cooked is not up to the mark.  The recipe book was not attached so,  it is difficult to know how to cook different dishes.  I tried some but outcome was bad.  Definitely you will have to compromise taste if you use this appliance.  I'm very much worried about the current consumption.  Think before you buy these air fryers.\",\n          \"Not a perfect fit for long usage,One problem you may face if you use it continuously for a long time may be ear ache can be start..,Although it's an HP product there's nothing to write home about this headphone. It does what it is promised and there's value for money as you can trust the brand but don't expect anything 'extra'. No volume control or on/off button, comfortable to wear but not designed for comfort, clear sound, and a mic but no advanced features for either. Yet it's good for the price!,Product would not meet my expectation and sound quality is poor.,Sound quality is good , cancels the background noise.,Not a bad deal,Build quality and sound quality was good,Base and noise cancelling is also good \\u263a\\ufe0f\\ud83d\\ude0a,I bought it in october month but now is not wprking properly\",\n          \"ABOUT  AMAZONBASICS:xxxxxxxxxxxxxxxxxxxxxxxxxxxxxxAmazon Basics was launched in 2009 & is Amazon\\u2019s own inhouse brand for fast moving small electronic consumer goods.Here amazon uses its massive collection of sales data to launch products that are in huge demand & already exist in the market- but at lower prices. Simply put up a similar replica for something successful but at much affordable prices.If something isn\\u2019t an immediate hit, Amazon pulls it and moves on.Amazon otherwise is like an online marketplace where it provides a portal for various sellers to sell their product BUT with amazonbasics - Amazon is selling its own product at its own marketplace .Here it derives the benefit of eliminating any intermediate distributors or retailers & hence amazonbasics branded products are available for a lower price attracting bulk customers online.As an additional benefit, Amazonbasics products are delivered free to prime members & are covered under amazon warranty for all and hence any claim or replacement procedures are highly streamlined & immediately taken care of.ABOUT OUR PRODUCT ( REQUIREMENT vs ACTUAL):xxxxxxxxxxxxxxxxxxxxxxxxxxxxxxxxxxxxxxxxxxxxxxxxxxxxxxI recently purchased a new Qualcomm 3 Qbix car charger & was looking for a cable with USB A to Micro B connector. I listed my priorities under various heads to come up with a conclusion and let us compare the actual product based upon my initial requirements:1.) DATA EXCHANGE:*****************************Since it was to be primarily used for fast mobile devices charging in car, Data exchange capability was not much of my concern. Preference though would surely have been a USB 3 but it didn\\u2019t bother me if I could only get a USB 2.0 too.ACTUAL PRODUCT: I did try to copy a movie file just for the sake of testing data exchange and I found it to be pretty well. I did not capture any speed data but then we all know speed of data transfer also varies with the type of data being transferred. The more variety of data being transferred simultaneously the lower will be the speed.2.) LENGTH OF THE CABLE :**************************************Again since I could not afford to have a lengthy loop of cable bunched around my gear knob, I preferred to keep it short & simple hence my only lookout was upto around a meter or below.ACTUAL PRODUCT: The cable came nicely packed in a paper packet and was precisely 0.9 meters or approximately 3 feet long. The length was sufficient for me to plug-in any of the mobile devices to my car charger at the drivers or the side passenger\\u2019s seat.3.) TANGLE FREE/ FLEXIBILITY/ STRENGTH STANDARDS:**************************************************************************I am not particularly a fan of those stubborn braided wires which are so hard that they retain the shape in which they are bent. I wanted something that was thick yet flexible enough to acquire a circular shape when bunched.ACTUAL PRODUCT: The cable received looked exactly as shown over the site with good flexibility , reasonable thickness & a sturdy intermediate cable. The whole construction of the cable due it\\u2019s cable size & flexibility is almost tangle-free.The associated cable was not exactly thick but can\\u2019t be termed as thin or delicate too. It\\u2019s not the thickest I\\u2019ve seen but then thickest doesn\\u2019t always means most durable. Given my application it\\u2019s more than just suitable.The overall built & quality of the cable & insulation looks promising enough to last few years. Even if used for other than car charging it looks durable enough to last long.I had further shortlisted mansaa & an amkette cable for the same purpose but they were too long for my requirement.4.) COMPACT MOULDED CONNECTORS:*********************************************************Had an inclination towards moulded connectors to avoid any issues where the connectors break open exposing the terminal PCBs.ACTUAL PRODUCT : There are no complaints regarding the connectors of the actual cable. The connectors are perfectly moulded without any joints or risks of splitting open. The connector casings are further quite compact at terminals to fit in comfortably at scarce spaces.The connector ports are sturdy enough both at USB A & micro B ports. The micro B port pins lock securely onto the charging mobile devices which is quite good.No signs of loose construction.Being Gold-plated is more of a misleading & fancy term(in this case) as most of the metal ports designed today already have a corrosion resistance & nobody is going to use them in saline sea water anyways.5.) AVAILABILITY OF TIES/VELCRO STRAPS :***********************************************************As per my intended use in a car where compactness was of paramount importance, I expected an included cable tie or a Velcro strap would be a nice add-on to properly adjust & arrange the cable as per requirement.ACTUAL PRODUCT: This I miss the most in the provided actual cable, there is no provision of an included strap or cable tie through which I could adjust my required cable length easily.6.) DECENT CURRENT HANDLING CAPABILITY:******************************************************************On the newest QC 3.0 certified chargers the current transmission can go up to 3.4 amps in certain cases hence the cable needed to have a decent current handling ability.ACTUAL PRODUCT : The actual cable has a nameplate rating of handling up to 2.1 amps against demands at new QC 3.0 chargers that could go up to 3.4 amps. Here, let me clear out that the latest QC chargers vary voltage to current ratios to achieve desired fast charging  & thus it is not like a continuous flow of 3.4 amps is there, it keeps on reducing hence cable ratings designed for a continuous current handling of anything above 2.0 amps would sufficiently work with QC 3.0 chargers.Have tried it safely multiple times charging my Samsung S7 from 10 % without the cable getting hot.7.) WARRANTY:************************Comes with a 1 year warranty as expected. Not the best in the industry but reasonable.OTHER OBSERVATIONS:*************************************Apart from the above listed features, the other details of the actual product received worth mentioning are:8.) The cable is manufactured in China & imported by amazon warehouse dealers under the brand name & philosophy of amazonbasics.9.) The cable has a manufacturing date of Oct 2017 & it was imported to India in Dec 2017.10.) The cable has a MRP tag of 495 bucks however I purchased it online for 269 bucks.being a prime member shipping was free.11.) A customer care toll free number & email is also printed over the label for registration of any consumer grievances.FINAL VERDICT:xxxxxxxxxxxxxxxxxxIt has been few days since I have received & been using this product. So far everything from construction to performance seems to be convincing enough to recommend it and for a price of around 260 I suppose, its worth it.Will surely update if any malfunction is observed.,Worth for buy!,The quality that amazon basics at times give at cheap prices is beyond imagination. simply superb, goverment shouldnt hinder amazon products , amazon products rather gives competition to local qualityless products which consumers are forced to buy beacause they have no quality competition. Make in india is good, but if the make in india products are simple cheap copies of branded products without any investment in R and D, without R and D make in india would never be successfull and ousting companies like amazon will only lead to loss for consumers , govt should infact encourage such competition.,Amazon basics provides one of the best cables available for charging your phone or connecting devices.As an past customer of many cables from Amazon this cable doesn't also disappoint,Supports fast charging for all my Samsung phones.I use Samsung a9pro 2016, Samsung s8plus 2017, which this cable is compatible with .Very sturdy, thick and very long. 6 ftVery affordable pricing. Thanks AmazonI also use a USB c cable for my Samsung s20fe.,Super,Product charging is ok.. however it's mere 1 foot in length..  the vendor could have mentioned  correct product description.. there is no need to mislead.. too early to say performance as I have received it today.,Good,I have bought many cheap chinese micro usb cable in Rs 50 and Rs 100 of ubon and of many other chinese local companies,and none of them worked properly.Finall i decided to go for this.And it is charging as well transferring data, without any issue and i am very happy with my purchaseMy advice : Dont buy, cheap chinese local cables of.You will have to throw them in dustbean after some time.Better buy this one.\"\n        ],\n        \"semantic_type\": \"\",\n        \"description\": \"\"\n      }\n    },\n    {\n      \"column\": \"img_link\",\n      \"properties\": {\n        \"dtype\": \"string\",\n        \"num_unique_values\": 1412,\n        \"samples\": [\n          \"https://m.media-amazon.com/images/W/WEBP_402378-T2/images/I/51esjcOy79L._SY300_SX300_QL70_FMwebp_.jpg\",\n          \"https://m.media-amazon.com/images/I/41nRBNNDnNL._SX300_SY300_QL70_FMwebp_.jpg\",\n          \"https://m.media-amazon.com/images/I/31-hWNXDxiL._SX300_SY300_QL70_ML2_.jpg\"\n        ],\n        \"semantic_type\": \"\",\n        \"description\": \"\"\n      }\n    },\n    {\n      \"column\": \"product_link\",\n      \"properties\": {\n        \"dtype\": \"string\",\n        \"num_unique_values\": 1465,\n        \"samples\": [\n          \"https://www.amazon.in/Snapdragon-Resolution-Refresh-27-81Cm-Display/dp/B09XXZXQC1/ref=sr_1_437?qid=1672903017&s=computers&sr=1-437\",\n          \"https://www.amazon.in/Skadioo-Accessories-Receiver-Compatible-dongle/dp/B09LHXNZLR/ref=sr_1_195?qid=1672909134&s=electronics&sr=1-195\",\n          \"https://www.amazon.in/LOHAYA-Assistant-Compatible-Xstream-Function/dp/B09LV13JFB/ref=sr_1_408?qid=1672909144&s=electronics&sr=1-408\"\n        ],\n        \"semantic_type\": \"\",\n        \"description\": \"\"\n      }\n    }\n  ]\n}"
            }
          },
          "metadata": {},
          "execution_count": 9
        }
      ]
    },
    {
      "cell_type": "code",
      "source": [
        "df.columns"
      ],
      "metadata": {
        "colab": {
          "base_uri": "https://localhost:8080/"
        },
        "id": "K2DeDWn3cj0_",
        "outputId": "a15c3210-6f1a-4fe1-e392-16977000f17b"
      },
      "execution_count": null,
      "outputs": [
        {
          "output_type": "execute_result",
          "data": {
            "text/plain": [
              "Index(['product_id', 'product_name', 'category', 'discounted_price',\n",
              "       'actual_price', 'discount_percentage', 'rating', 'rating_count',\n",
              "       'about_product', 'user_id', 'user_name', 'review_id', 'review_title',\n",
              "       'review_content', 'img_link', 'product_link'],\n",
              "      dtype='object')"
            ]
          },
          "metadata": {},
          "execution_count": 10
        }
      ]
    },
    {
      "cell_type": "code",
      "source": [
        "df.shape"
      ],
      "metadata": {
        "colab": {
          "base_uri": "https://localhost:8080/"
        },
        "id": "D2AY1L43cl36",
        "outputId": "2230240c-8ee2-4c31-c4ef-174345287d6c"
      },
      "execution_count": null,
      "outputs": [
        {
          "output_type": "execute_result",
          "data": {
            "text/plain": [
              "(1465, 16)"
            ]
          },
          "metadata": {},
          "execution_count": 11
        }
      ]
    },
    {
      "cell_type": "code",
      "source": [
        "df.dtypes"
      ],
      "metadata": {
        "colab": {
          "base_uri": "https://localhost:8080/"
        },
        "id": "o9p_zApRcxHP",
        "outputId": "516b25c3-6e13-43de-bc5c-5752a9fb0e08"
      },
      "execution_count": null,
      "outputs": [
        {
          "output_type": "execute_result",
          "data": {
            "text/plain": [
              "product_id             object\n",
              "product_name           object\n",
              "category               object\n",
              "discounted_price       object\n",
              "actual_price           object\n",
              "discount_percentage    object\n",
              "rating                 object\n",
              "rating_count           object\n",
              "about_product          object\n",
              "user_id                object\n",
              "user_name              object\n",
              "review_id              object\n",
              "review_title           object\n",
              "review_content         object\n",
              "img_link               object\n",
              "product_link           object\n",
              "dtype: object"
            ]
          },
          "metadata": {},
          "execution_count": 12
        }
      ]
    },
    {
      "cell_type": "markdown",
      "source": [
        "**Note that the currency being used in Indian Rupee.**\n",
        "\n"
      ],
      "metadata": {
        "id": "XlHrX54EF8Kb"
      }
    },
    {
      "cell_type": "code",
      "source": [
        "#Changing the data type of discounted price and actual price\n",
        "\n",
        "df['discounted_price'] = df['discounted_price'].str.replace(\"₹\",'')\n",
        "df['discounted_price'] = df['discounted_price'].str.replace(\",\",'')\n",
        "df['discounted_price'] = df['discounted_price'].astype('float64')\n",
        "\n",
        "df['actual_price'] = df['actual_price'].str.replace(\"₹\",'')\n",
        "df['actual_price'] = df['actual_price'].str.replace(\",\",'')\n",
        "df['actual_price'] = df['actual_price'].astype('float64')\n"
      ],
      "metadata": {
        "id": "IQHeKBmcc3_B"
      },
      "execution_count": null,
      "outputs": []
    },
    {
      "cell_type": "code",
      "source": [
        "#Changing Datatype and values in Discount Percentage\n",
        "\n",
        "df['discount_percentage'] = df['discount_percentage'].str.replace('%','').astype('float64')\n",
        "\n",
        "df['discount_percentage'] = df['discount_percentage'] / 100\n",
        "\n",
        "df['discount_percentage']"
      ],
      "metadata": {
        "id": "ZI8p4swBdJla"
      },
      "execution_count": null,
      "outputs": []
    },
    {
      "cell_type": "code",
      "source": [
        "#Finding unusual string in the rating column\n",
        "\n",
        "df['rating'].value_counts()"
      ],
      "metadata": {
        "id": "LGf7zGQbdzp9"
      },
      "execution_count": null,
      "outputs": []
    },
    {
      "cell_type": "code",
      "source": [
        "#Inspecting the strange row\n",
        "\n",
        "df.query('rating == \"|\"')"
      ],
      "metadata": {
        "colab": {
          "base_uri": "https://localhost:8080/",
          "height": 176
        },
        "id": "L43jR8iad6Xv",
        "outputId": "5eceac22-4998-4f1f-e15c-fc8362b6e2ae"
      },
      "execution_count": null,
      "outputs": [
        {
          "output_type": "error",
          "ename": "NameError",
          "evalue": "name 'df' is not defined",
          "traceback": [
            "\u001b[0;31m---------------------------------------------------------------------------\u001b[0m",
            "\u001b[0;31mNameError\u001b[0m                                 Traceback (most recent call last)",
            "\u001b[0;32m<ipython-input-5-fbe86554bedc>\u001b[0m in \u001b[0;36m<cell line: 3>\u001b[0;34m()\u001b[0m\n\u001b[1;32m      1\u001b[0m \u001b[0;31m#Inspecting the strange row\u001b[0m\u001b[0;34m\u001b[0m\u001b[0;34m\u001b[0m\u001b[0m\n\u001b[1;32m      2\u001b[0m \u001b[0;34m\u001b[0m\u001b[0m\n\u001b[0;32m----> 3\u001b[0;31m \u001b[0mdf\u001b[0m\u001b[0;34m.\u001b[0m\u001b[0mquery\u001b[0m\u001b[0;34m(\u001b[0m\u001b[0;34m'rating == \"|\"'\u001b[0m\u001b[0;34m)\u001b[0m\u001b[0;34m\u001b[0m\u001b[0;34m\u001b[0m\u001b[0m\n\u001b[0m",
            "\u001b[0;31mNameError\u001b[0m: name 'df' is not defined"
          ]
        }
      ]
    },
    {
      "cell_type": "code",
      "source": [
        "#Changing Rating Columns Data Type\n",
        "\n",
        "df['rating'] = df['rating'].str.replace('|', '4.0').astype('float64')"
      ],
      "metadata": {
        "id": "HGQZ-ARMeAth"
      },
      "execution_count": null,
      "outputs": []
    },
    {
      "cell_type": "code",
      "source": [
        "#Changing Rating Column Data Type\n",
        "\n",
        "df['rating_count'] = df['rating_count'].str.replace(',', '').astype('float64')"
      ],
      "metadata": {
        "id": "HAKkNToneDLj"
      },
      "execution_count": null,
      "outputs": []
    },
    {
      "cell_type": "code",
      "source": [
        "#Checking for Duplicates\n",
        "\n",
        "duplicates = df.duplicated()\n",
        "df[duplicates]"
      ],
      "metadata": {
        "id": "OEbv50mXeKxM"
      },
      "execution_count": null,
      "outputs": []
    },
    {
      "cell_type": "code",
      "source": [
        "#Checking Missing Values\n",
        "\n",
        "df.isna().sum()"
      ],
      "metadata": {
        "id": "Z_qWADVgePmf"
      },
      "execution_count": null,
      "outputs": []
    },
    {
      "cell_type": "code",
      "source": [
        "#Creating a new DataFrame with Selected Column\n",
        "\n",
        "df1 = df[['product_id', 'product_name', 'category', 'discounted_price', 'actual_price', 'discount_percentage', 'rating', 'rating_count']].copy()"
      ],
      "metadata": {
        "id": "DRZvg2J_eRqS"
      },
      "execution_count": null,
      "outputs": []
    },
    {
      "cell_type": "code",
      "source": [
        "#Splitting the Strings in the category column\n",
        "\n",
        "catsplit = df['category'].str.split('|', expand=True)\n",
        "catsplit"
      ],
      "metadata": {
        "id": "oMp5jECNeVi7"
      },
      "execution_count": null,
      "outputs": []
    },
    {
      "cell_type": "code",
      "source": [
        "#Renaming category column\n",
        "\n",
        "catsplit = catsplit.rename(columns={0:'category_1', 1:'category_2', 2:'category_3'})"
      ],
      "metadata": {
        "id": "aVr27BCweaRZ"
      },
      "execution_count": null,
      "outputs": []
    },
    {
      "cell_type": "code",
      "source": [
        "#Adding categories to the new dataframe\n",
        "\n",
        "df1['category_1'] = catsplit['category_1']\n",
        "df1['category_2'] = catsplit['category_2']\n",
        "\n",
        "df1.drop(columns='category', inplace=True)\n",
        "\n",
        "df1"
      ],
      "metadata": {
        "id": "6aoanCtgefxd"
      },
      "execution_count": null,
      "outputs": []
    },
    {
      "cell_type": "code",
      "source": [
        "#Checking category_1 unique values\n",
        "\n",
        "df1['category_1'].value_counts()"
      ],
      "metadata": {
        "id": "MYjCi604eijd"
      },
      "execution_count": null,
      "outputs": []
    },
    {
      "cell_type": "code",
      "source": [
        "#Fixing Strings in the Category_1 Column\n",
        "\n",
        "df1['category_1'] = df1['category_1'].str.replace('&', ' & ')\n",
        "df1['category_1'] = df1['category_1'].str.replace('OfficeProducts', 'Office Products')\n",
        "df1['category_1'] = df1['category_1'].str.replace('MusicalInstruments', 'Musical Instruments')\n",
        "df1['category_1'] = df1['category_1'].str.replace('HomeImprovement', 'Home Improvement')\n"
      ],
      "metadata": {
        "id": "G-Omc39Cenqu"
      },
      "execution_count": null,
      "outputs": []
    },
    {
      "cell_type": "code",
      "source": [
        "#Checking category_2 unique values\n",
        "\n",
        "df1['category_2'].value_counts()"
      ],
      "metadata": {
        "id": "HN1IZ0YReq14"
      },
      "execution_count": null,
      "outputs": []
    },
    {
      "cell_type": "code",
      "source": [
        "#Fixing Strings in Category_2 column\n",
        "\n",
        "df1['category_2'] = df1['category_2'].str.replace('&', ' & ')\n",
        "df1['category_2'] = df1['category_2'].str.replace(',', ', ')\n",
        "df1['category_2'] = df1['category_2'].str.replace('HomeAppliances', 'Home Appliances')\n",
        "df1['category_2'] = df1['category_2'].str.replace('AirQuality', 'Air Quality')\n",
        "df1['category_2'] = df1['category_2'].str.replace('WearableTechnology', 'Wearable Technology')\n",
        "df1['category_2'] = df1['category_2'].str.replace('NetworkingDevices', 'Networking Devices')\n",
        "df1['category_2'] = df1['category_2'].str.replace('OfficePaperProducts', 'Office Paper Products')\n",
        "df1['category_2'] = df1['category_2'].str.replace('ExternalDevices', 'External Devices')\n",
        "df1['category_2'] = df1['category_2'].str.replace('DataStorage', 'Data Storage')\n",
        "df1['category_2'] = df1['category_2'].str.replace('HomeStorage', 'Home Storage')\n",
        "df1['category_2'] = df1['category_2'].str.replace('HomeAudio', 'Home Audio')\n",
        "df1['category_2'] = df1['category_2'].str.replace('GeneralPurposeBatteries', 'General Purpose Batteries')\n",
        "df1['category_2'] = df1['category_2'].str.replace('BatteryChargers', 'Battery Chargers')\n",
        "df1['category_2'] = df1['category_2'].str.replace('CraftMaterials', 'Craft Materials')\n",
        "df1['category_2'] = df1['category_2'].str.replace('OfficeElectronics', 'Office Electronics')\n",
        "df1['category_2'] = df1['category_2'].str.replace('PowerAccessories', 'Power Accessories')\n",
        "df1['category_2'] = df1['category_2'].str.replace('CarAccessories', 'Car Accessories')\n",
        "df1['category_2'] = df1['category_2'].str.replace('HomeMedicalSupplies', 'Home Medical Supplies')\n",
        "df1['category_2'] = df1['category_2'].str.replace('HomeTheater', 'Home Theater')"
      ],
      "metadata": {
        "id": "bKNAj4KTet_s"
      },
      "execution_count": null,
      "outputs": []
    },
    {
      "cell_type": "code",
      "source": [
        "# Removing Whitespace from product_id\n",
        "\n",
        "df1['product_id'].str.strip()"
      ],
      "metadata": {
        "id": "q4hy00gtfDGz"
      },
      "execution_count": null,
      "outputs": []
    },
    {
      "cell_type": "code",
      "source": [
        "#Creating Categories for Rankings\n",
        "\n",
        "rating_score = []\n",
        "\n",
        "for score in df1['rating']:\n",
        "    if score < 2.0 : rating_score.append('Poor')\n",
        "    elif score < 3.0 : rating_score.append('Below Average')\n",
        "    elif score < 4.0 : rating_score.append('Average')\n",
        "    elif score < 5.0 : rating_score.append('Above Average')\n",
        "    elif score == 5.0 : rating_score.append('Excellent')"
      ],
      "metadata": {
        "id": "ux12jg7NfoH2"
      },
      "execution_count": null,
      "outputs": []
    },
    {
      "cell_type": "markdown",
      "source": [
        "Created a  **Rating Category** that consists of:\n",
        "\n",
        "**1.  Score below 2.0 = Poor**\n",
        "\n",
        "**2.  Score range of 2.0 - 2.9 = Below Average**\n",
        "\n",
        "**3.  Score range of 3.0 - 3.9 = Average**\n",
        "\n",
        "**4.  Score Range of 4.0 - 4.9 = Above Averag**e\n",
        "\n",
        "**5.  Score of 5.0 = Excellent**"
      ],
      "metadata": {
        "id": "PIqTkMOZfxeW"
      }
    },
    {
      "cell_type": "code",
      "source": [
        "#Creating A new Column and Changing the Data Type\n",
        "\n",
        "df1['rating_score'] = rating_score\n",
        "\n",
        "df1['rating_score'] = df1['rating_score'].astype('category')"
      ],
      "metadata": {
        "id": "DsmAuuXvfzRI"
      },
      "execution_count": null,
      "outputs": []
    },
    {
      "cell_type": "code",
      "source": [
        "#Reordered Categories\n",
        "\n",
        "df1['rating_score'] = df1['rating_score'].cat.reorder_categories(['Below Average', 'Average', 'Above Average', 'Excellent'], ordered=True)"
      ],
      "metadata": {
        "id": "o9ph21KOZKZy"
      },
      "execution_count": null,
      "outputs": []
    },
    {
      "cell_type": "code",
      "source": [
        "#Creating Difference of Price Column between Actual Price and Discounted Price\n",
        "\n",
        "df1['difference_price'] = df1['actual_price'] - df1['discounted_price']"
      ],
      "metadata": {
        "id": "GW6bAbB9Zgs8"
      },
      "execution_count": null,
      "outputs": []
    },
    {
      "cell_type": "code",
      "source": [
        "#Result After Cleaning and Preperation after first cleaned dataframe\n",
        "\n",
        "df1.head()"
      ],
      "metadata": {
        "id": "2gJEvIZ3Zjd1"
      },
      "execution_count": null,
      "outputs": []
    },
    {
      "cell_type": "code",
      "source": [
        "#Subsetting Reviewers Identifications\n",
        "\n",
        "reviewers = df[['user_id','user_name']]\n",
        "reviewers"
      ],
      "metadata": {
        "id": "epGgSpx6ZmWq"
      },
      "execution_count": null,
      "outputs": []
    },
    {
      "cell_type": "code",
      "source": [
        "#Splitting the strings in user_id column\n",
        "\n",
        "reviewer_id_split = reviewers['user_id'].str.split(',', expand=False)\n",
        "\n",
        "reviewer_id_split"
      ],
      "metadata": {
        "id": "iSXQX8zKZpC0"
      },
      "execution_count": null,
      "outputs": []
    },
    {
      "cell_type": "code",
      "source": [
        "#Making user id display 1 id per row\n",
        "\n",
        "reviewer_id_exp = reviewer_id_split.explode()\n",
        "\n",
        "reviewer_id_clean = reviewer_id_exp.reset_index(drop=True)\n",
        "\n",
        "reviewer_id_clean"
      ],
      "metadata": {
        "id": "NDhyF08AZtb1"
      },
      "execution_count": null,
      "outputs": []
    },
    {
      "cell_type": "code",
      "source": [
        "#Splitting the strings in user_name column\n",
        "\n",
        "reviewer_name_split = reviewers['user_name'].str.split(',', expand=False)\n",
        "\n",
        "reviewer_name_split"
      ],
      "metadata": {
        "id": "WtxZJfDKZueH"
      },
      "execution_count": null,
      "outputs": []
    },
    {
      "cell_type": "code",
      "source": [
        "#Making user name display 1 id per row\n",
        "\n",
        "review_name_exp = reviewer_name_split.explode()\n",
        "\n",
        "reviewer_name_clean = review_name_exp.reset_index(drop=True)\n",
        "\n",
        "reviewer_name_clean"
      ],
      "metadata": {
        "id": "VWmSdq0JZxXX"
      },
      "execution_count": null,
      "outputs": []
    },
    {
      "cell_type": "code",
      "source": [
        "#Creating 2 Data Frames to be merged\n",
        "\n",
        "df21 = pd.DataFrame(data=reviewer_id_clean)\n",
        "df22 = pd.DataFrame(data=reviewer_name_clean)\n"
      ],
      "metadata": {
        "id": "jq5Sp80SZzzK"
      },
      "execution_count": null,
      "outputs": []
    },
    {
      "cell_type": "code",
      "source": [
        "#Merging the 2 dataframe containing user_id and user_name\n",
        "\n",
        "df2 = pd.merge(df21, df22, left_index=True, right_index=True)"
      ],
      "metadata": {
        "id": "BLSyoaQwZ66C"
      },
      "execution_count": null,
      "outputs": []
    },
    {
      "cell_type": "code",
      "source": [
        "#Final Check for the new dataframe\n",
        "\n",
        "df2.head()"
      ],
      "metadata": {
        "id": "zvg_oF91Z9K-"
      },
      "execution_count": null,
      "outputs": []
    },
    {
      "cell_type": "markdown",
      "source": [
        "### DATA EXPLORATION\n",
        "In this stage we will try to elaborate my insights through Visualizations, Pivot Tables, and short explanations.\n"
      ],
      "metadata": {
        "id": "tKh-OoPmZ-yx"
      }
    },
    {
      "cell_type": "code",
      "source": [
        "#Setting Visualization Style\n",
        "\n",
        "sns.set_style(style='darkgrid')\n",
        "\n",
        "sns.set_palette(palette=\"icefire\")"
      ],
      "metadata": {
        "id": "oyYCBfY2aHSA"
      },
      "execution_count": null,
      "outputs": []
    },
    {
      "cell_type": "markdown",
      "source": [
        "## **Observation 1: Product Category**\n",
        "\n",
        "Below are the list of **Main Category** and **Sub-Category** to help determine which sub-category belongs to which main category:"
      ],
      "metadata": {
        "id": "AiBLl2QSaO_b"
      }
    },
    {
      "cell_type": "code",
      "source": [
        "#Main Category and Sub-Category\n",
        "\n",
        "main_sub = df1[['category_1', 'category_2', 'product_id']]\n",
        "\n",
        "main_sub = main_sub.rename(columns={'category_1' :'Main Category', 'category_2' : 'Sub-Category', 'product_id':'Product ID'})\n",
        "\n",
        "main_sub_piv = pd.pivot_table(main_sub, index=['Main Category', 'Sub-Category'], aggfunc='count')\n",
        "\n",
        "main_sub_piv"
      ],
      "metadata": {
        "id": "ahzqVT76aLTy"
      },
      "execution_count": null,
      "outputs": []
    },
    {
      "cell_type": "code",
      "source": [
        "#Most amount of products by category\n",
        "\n",
        "most_main_items = df1['category_1'].value_counts().head(5).rename_axis('category_1').reset_index(name='counts')\n",
        "\n",
        "most_sub_items = df1['category_2'].value_counts().head(10).rename_axis('category_2').reset_index(name='counts')\n",
        "\n",
        "fig, ax = plt.subplots(2, 1, figsize=(8, 10))\n",
        "fig.suptitle('Most Amount of Products by Category', fontweight='heavy', size='x-large')\n",
        "\n",
        "sns.barplot(ax=ax[0], data=most_main_items, x='counts', y='category_1')\n",
        "sns.barplot(ax=ax[1], data=most_sub_items, x='counts', y='category_2')\n",
        "\n",
        "plt.subplots_adjust(hspace = 0.3)\n",
        "\n",
        "ax[0].set_xlabel('Count', fontweight='bold')\n",
        "ax[0].set_ylabel('Product Main Category', fontweight='bold')\n",
        "\n",
        "ax[1].set_xlabel('Count', fontweight='bold')\n",
        "ax[1].set_ylabel('Product Sub-Category', fontweight='bold')\n",
        "\n",
        "ax[0].set_title('Most Products by Main Category', fontweight='bold')\n",
        "ax[1].set_title('Most Products by Sub-Category', fontweight='bold')\n",
        "\n",
        "\n",
        "ax[0].bar_label(ax[0].containers[0])\n",
        "ax[1].bar_label(ax[1].containers[0])\n",
        "\n",
        "plt.show()\n"
      ],
      "metadata": {
        "id": "cJpoZoYUaVjS"
      },
      "execution_count": null,
      "outputs": []
    },
    {
      "cell_type": "markdown",
      "source": [
        "**Electronics especially acccessories & peripherals and kitchen & home appliances covers most of the products** in this dataset. In general, this dataset contains mostly products closely related to electric devices."
      ],
      "metadata": {
        "id": "0VK9tXycaarL"
      }
    },
    {
      "cell_type": "code",
      "source": [
        "#Top 5 Most Expensive Products After Discount\n",
        "\n",
        "disc_exp = sns.barplot(data=df1.sort_values('discounted_price', ascending=False).head(5), x='discounted_price', y='product_name')\n",
        "\n",
        "disc_exp.set_title('Top 5 Most Expensive Products After Discount', fontweight='bold')\n",
        "disc_exp.set_xlabel('Discounted Price (Rupee India)', fontweight='bold')\n",
        "disc_exp.set_ylabel('Product Name', fontweight='bold')\n",
        "\n",
        "plt.show()"
      ],
      "metadata": {
        "id": "Fj64_Rm9abzh"
      },
      "execution_count": null,
      "outputs": []
    },
    {
      "cell_type": "code",
      "source": [
        "#Top 5 Cheapest Products After Discount\n",
        "\n",
        "disc_cheap = sns.barplot(data=df1.sort_values('discounted_price').head(5), x='discounted_price', y='product_name')\n",
        "\n",
        "disc_cheap.set_title('Top 5 Cheapest Products After Discount', fontweight='bold')\n",
        "disc_cheap.set_xlabel('Discounted Price (Rupee India)', fontweight='bold')\n",
        "disc_cheap.set_ylabel('Product Name', fontweight='bold')\n",
        "\n",
        "plt.show()"
      ],
      "metadata": {
        "id": "o0NHJPD_ah9x"
      },
      "execution_count": null,
      "outputs": []
    },
    {
      "cell_type": "code",
      "source": [
        "#Top 5 Products with the largest difference in price due to discount\n",
        "\n",
        "dif_price_large = sns.barplot(data= df1.sort_values('difference_price', ascending=False).head(5), x='difference_price', y='product_name')\n",
        "\n",
        "dif_price_large.set_title('Top 5 Products with the Largest Price Difference', fontweight='bold')\n",
        "dif_price_large.set_xlabel('Price Difference (Rupee India)', fontweight='bold')\n",
        "dif_price_large.set_ylabel('Product Name', fontweight='bold')\n",
        "\n",
        "plt.show()"
      ],
      "metadata": {
        "id": "G5Cp2Fesakrd"
      },
      "execution_count": null,
      "outputs": []
    },
    {
      "cell_type": "markdown",
      "source": [
        "## **Observation 2: Correlation between Features**"
      ],
      "metadata": {
        "id": "t3wtc4CQaoHT"
      }
    },
    {
      "cell_type": "code",
      "source": [
        "#Heatmap & Correlation between Actual Price & Discounted Price\n",
        "\n",
        "fig, ax = plt.subplots(2, 1, figsize=(8, 10))\n",
        "\n",
        "fig.suptitle('Correlation Between Features', fontweight='heavy', size='xx-large')\n",
        "\n",
        "sns.heatmap(ax=ax[0], data=df1.corr())\n",
        "sns.scatterplot(ax=ax[1], data=df1, y='discounted_price', x='actual_price', color='brown')\n",
        "\n",
        "plt.subplots_adjust(hspace = 0.8)\n",
        "\n",
        "ax[1].set_xlabel('Actual Price (Rupee India)', fontweight='bold')\n",
        "ax[1].set_ylabel('Discounted Price (Rupee India)', fontweight='bold')\n",
        "\n",
        "ax[0].set_title('Heatmap', fontweight='bold')\n",
        "ax[1].set_title('Correlation between Actual Price & Discounted Price', fontweight='bold')\n",
        "\n",
        "plt.show()"
      ],
      "metadata": {
        "id": "PE31eSjlapE1"
      },
      "execution_count": null,
      "outputs": []
    },
    {
      "cell_type": "markdown",
      "source": [
        "There are almost no correlation between the features in the dataset. Only the **actual prices of products and the discounted prices of products have a positive correlation**."
      ],
      "metadata": {
        "id": "izDS4pUhasm_"
      }
    },
    {
      "cell_type": "markdown",
      "source": [
        "## **Observation 3: Product Ratings**"
      ],
      "metadata": {
        "id": "_NZqGAvfayNB"
      }
    },
    {
      "cell_type": "code",
      "source": [
        "#Rating & Amount of Rating Distribution\n",
        "\n",
        "fig, ax = plt.subplots(1, 2, figsize=(15, 5))\n",
        "\n",
        "fig.suptitle('Rating & Amount of Ratings Distribution', fontweight='heavy', size='xx-large')\n",
        "\n",
        "fig.tight_layout(pad=3.0)\n",
        "\n",
        "sns.histplot(ax=ax[0], data=df1, x='rating', bins=15, kde=True, color='blue')\n",
        "sns.histplot(ax=ax[1], data=df1, x='rating_count', bins=10, kde=True, color='purple')\n",
        "\n",
        "ax[0].set_xlabel('Rating', fontweight='bold')\n",
        "ax[1].set_xlabel('Amount of Ratings', fontweight='bold')\n",
        "\n",
        "ax[0].set_ylabel('Count', fontweight='bold')\n",
        "ax[1].set_ylabel('Count', fontweight='bold')\n",
        "\n",
        "ax[0].set_title('Rating Distribution', fontweight='bold')\n",
        "ax[1].set_title('Amount of Ratings Distribution', fontweight='bold')\n",
        "\n",
        "plt.show()"
      ],
      "metadata": {
        "id": "TtMQMk6cbFsr"
      },
      "execution_count": null,
      "outputs": []
    },
    {
      "cell_type": "markdown",
      "source": [
        "Most of the product rating range around **4.0 - 4.375** with **no products under the score of 2.0**. The rating distribution in **slightly left-skewed**.\n",
        "\n",
        "The amount of ratings given to a product is very widespread. Most of the products that have been rated, have around **0 - 5000 amount of rating** for each product. Interestingly there are products that have more than 40,000 ratings. The amount of **ratings distribution is highly right skewed**."
      ],
      "metadata": {
        "id": "XVYz4JtcbJp1"
      }
    },
    {
      "cell_type": "code",
      "source": [
        "#Rating Distribution by Product Main Category\n",
        "\n",
        "fig, ax = plt.subplots(figsize=(10, 6))\n",
        "\n",
        "sns.boxplot(ax=ax, data=df1, x='rating', y='category_1')\n",
        "\n",
        "ax.set_xlabel('Rating', fontweight='bold')\n",
        "ax.set_ylabel('Product Main Category', fontweight='bold')\n",
        "ax.set_title('Rating Distribution by Product Main Category', fontweight='heavy', size='x-large', y=1.03)\n",
        "\n",
        "plt.show()"
      ],
      "metadata": {
        "id": "8N4N1S9La1uc"
      },
      "execution_count": null,
      "outputs": []
    },
    {
      "cell_type": "markdown",
      "source": [
        "**Toys & Games, Car & Motorbike, and Health & Personal Care** product ratings's are around **3.75 - 4.375**. **All Home Improvement, and Office Products** have a **minimal rating of 4.0**.\n",
        "\n",
        "Many of the **Computer & Accessories, and Electronics** products have ratings in the range of  **3.6 - 4.6.** Though these categories do have products that have a high rating such as 5.0 and low rating, going down to 2.75.\n",
        "\n",
        "Noticeably, the **Home & Kitchen products** have a really widespread rating going to as **high as 4.75** and going as **low as 2.0** rating, which is the lowest rating out of all the products in this dataset. However, most of the products in this category fall in the range of around **3.8 - 4.6**."
      ],
      "metadata": {
        "id": "bEH4_DZofkjP"
      }
    },
    {
      "cell_type": "code",
      "source": [
        "#Rating of Products based on Rating Category\n",
        "\n",
        "rate_main_cat = df1.groupby(['category_1','rating_score']).agg('count').iloc[:,1].rename_axis().reset_index(name='Amount')\n",
        "\n",
        "rate_main_cat = rate_main_cat.rename(columns = {'category_1' : 'Main Category', 'rating_score' : 'Rating Category'})\n",
        "\n",
        "rate_main_cat"
      ],
      "metadata": {
        "id": "EdcmrT0HbWIa"
      },
      "execution_count": null,
      "outputs": []
    },
    {
      "cell_type": "markdown",
      "source": [
        "Above is the list of the amount of products under specific ratings for each main category."
      ],
      "metadata": {
        "id": "6g_Ei-KzbZQR"
      }
    },
    {
      "cell_type": "code",
      "source": [
        "#Rating Distribution by Product Sub-Category\n",
        "\n",
        "fig, ax = plt.subplots(figsize=(12, 7))\n",
        "\n",
        "sns.boxplot(ax=ax, data=df1, x='rating', y='category_2')\n",
        "\n",
        "ax.set_xlabel('Rating', fontweight='bold')\n",
        "ax.set_ylabel('Product Sub-Category', fontweight='bold')\n",
        "ax.set_title('Rating Distribution by Product Sub-Category', fontweight='heavy', size='x-large', y=1.03)\n",
        "\n",
        "plt.show()"
      ],
      "metadata": {
        "id": "w3up67N_bWJG"
      },
      "execution_count": null,
      "outputs": []
    },
    {
      "cell_type": "markdown",
      "source": [
        "In the *Rating Distribution by Product Sub-Category* graph, I have noticed that the **highest rated product** comes from the sub category of **Accessories & Peripherals**. The **lowest rated product** comes from the sub category of **Heating, Cooling & Air Quality**.\n",
        "\n"
      ],
      "metadata": {
        "id": "dofuEi1JbjKs"
      }
    },
    {
      "cell_type": "code",
      "source": [
        "#The Rating of All Products in Percentage\n",
        "\n",
        "rating_ordered = ['Below Average', 'Average', 'Above Average', 'Excellent']\n",
        "\n",
        "rating_count = df1['rating_score'].value_counts(normalize=True).rename_axis('rating').reset_index(name='counts')\n",
        "\n",
        "rating_count['counts'] = rating_count['counts'].round(3)\n",
        "\n",
        "rating_count_plot = sns.barplot(data=rating_count, x='rating', y='counts', order=rating_ordered)\n",
        "\n",
        "rating_count_plot.set_xlabel('Rating Category', fontweight='bold')\n",
        "rating_count_plot.set_ylabel('Percentage', fontweight='bold')\n",
        "rating_count_plot.set_title('The Rating of All Products in Percentage', fontweight='heavy', size='x-large', y=1.03)\n",
        "\n",
        "\n",
        "rating_count_plot.bar_label(rating_count_plot.containers[0])\n",
        "\n",
        "plt.show()"
      ],
      "metadata": {
        "id": "3ci8NHdObmLk"
      },
      "execution_count": null,
      "outputs": []
    },
    {
      "cell_type": "markdown",
      "source": [
        "**Most of the products** in this dataset have been rated **Above Average**. There are **extremely few products** that are rated **Below Average and Excellent**. **No products are rated as Poor** in this dataset."
      ],
      "metadata": {
        "id": "J7i7BBbEbruI"
      }
    },
    {
      "cell_type": "code",
      "source": [
        "#Pivot table of Rating\n",
        "\n",
        "def p25(g):\n",
        "    return np.percentile(g, 25)\n",
        "\n",
        "def p75(g):\n",
        "    return np.percentile(g, 75)\n",
        "\n",
        "rating_pivot = df1.pivot_table(values=['rating', 'rating_count'], index=['category_1', 'category_2'], aggfunc=([p25, np.median, np.mean, p75]))\n",
        "\n",
        "rating_pivot = rating_pivot.rename(columns = {'rating':'Rating', 'rating_count': 'Rating Count', 'median':'Median', 'mean':'Mean'}, index={'category_1': 'Main Category', 'category_2': 'Sub Category'})\n",
        "\n",
        "rating_pivot"
      ],
      "metadata": {
        "id": "AWzAw2IzbusP"
      },
      "execution_count": null,
      "outputs": []
    },
    {
      "cell_type": "markdown",
      "source": [
        "Above is the **specific data on ratings and the amount of rating** for each Main and Sub Category of Products from the dataset."
      ],
      "metadata": {
        "id": "7t-2stInbwd0"
      }
    },
    {
      "cell_type": "markdown",
      "source": [
        "## **Observation 4: Reviewers**"
      ],
      "metadata": {
        "id": "u4d5jwmQb3YX"
      }
    },
    {
      "cell_type": "code",
      "source": [
        "#Reviewers who gave ratings and reviews for more than one product\n",
        "\n",
        "top_reviewer = data=df2['user_name'].value_counts().head(10).rename_axis('username').reset_index(name='counts')\n",
        "\n",
        "top_review_plot = sns.barplot(data=top_reviewer, x='counts', y='username')\n",
        "\n",
        "top_review_plot.bar_label(top_review_plot.containers[0])\n",
        "\n",
        "top_review_plot.set_xlabel('Amount of Rating Reviews Given', fontweight='bold')\n",
        "top_review_plot.set_ylabel(\"Reviewer's Name\", fontweight='bold')\n",
        "top_review_plot.set_title('Top 10 Active Reviewers', fontweight='heavy', size='x-large', y=1.03)\n",
        "\n",
        "plt.show()\n"
      ],
      "metadata": {
        "id": "11OMcPqGbutF"
      },
      "execution_count": null,
      "outputs": []
    },
    {
      "cell_type": "markdown",
      "source": [
        "We can see that there are more than **500 people who reviewed a product and give rating anonymously** under the **alias of Amazon Customer, Place Holder, and Kindle Customer**.\n",
        "\n",
        "There are **more than 8 people** who have given ratings and reviews to **more than 10 products** on this dataset."
      ],
      "metadata": {
        "id": "gM8-ozxab9nC"
      }
    },
    {
      "cell_type": "markdown",
      "source": [
        "## **Observation 5: Product Pricing**"
      ],
      "metadata": {
        "id": "09zFuI9HcCmT"
      }
    },
    {
      "cell_type": "code",
      "source": [
        "#Actual Price & Discounted Price Distribution\n",
        "\n",
        "fig, ax = plt.subplots(1, 2, figsize=(15, 5))\n",
        "\n",
        "fig.suptitle('Actual Price & Discounted Price Distribution', fontweight='heavy', size='xx-large')\n",
        "\n",
        "fig.tight_layout(pad=3.0)\n",
        "\n",
        "sns.histplot(ax=ax[0], data=df1, x='actual_price', bins=8, kde=True, color='red')\n",
        "sns.histplot(ax=ax[1], data=df1, x='discounted_price', bins=8, kde=True, color='orange')\n",
        "\n",
        "ax[0].set_xlabel('Actual Price (Rupee India)', fontweight='bold')\n",
        "ax[1].set_xlabel('Discounted Price (Rupee India)', fontweight='bold')\n",
        "\n",
        "ax[0].set_ylabel('Count', fontweight='bold')\n",
        "ax[1].set_ylabel('Count', fontweight='bold')\n",
        "\n",
        "ax[0].set_title('Actual Price Distribution', fontweight='bold')\n",
        "ax[1].set_title('Discounted Price Distribution', fontweight='bold')\n",
        "\n",
        "plt.show()"
      ],
      "metadata": {
        "id": "HL-w-RzmcDsz"
      },
      "execution_count": null,
      "outputs": []
    },
    {
      "cell_type": "markdown",
      "source": [
        "Both graphs show the same distribution which is **Right or Positvely Skewed**."
      ],
      "metadata": {
        "id": "0oMrlAZncIgR"
      }
    },
    {
      "cell_type": "code",
      "source": [
        "#Discount Percentage Distribution\n",
        "\n",
        "disc_hist = sns.histplot(data=df1, x='discount_percentage', bins=8, kde=True, color='green')\n",
        "\n",
        "\n",
        "disc_hist.set_xlabel('Discount Percentage', fontweight='bold')\n",
        "disc_hist.set_ylabel('Count', fontweight='bold')\n",
        "disc_hist.set_title('Discount Percentage Distribution', fontweight='heavy', size='x-large')\n",
        "\n",
        "plt.show()"
      ],
      "metadata": {
        "id": "BmEfD5M8cMXT"
      },
      "execution_count": null,
      "outputs": []
    },
    {
      "cell_type": "markdown",
      "source": [
        "Most products on the dataset have discounts at around **50% - 70%**."
      ],
      "metadata": {
        "id": "NlaT4mW2cZwH"
      }
    },
    {
      "cell_type": "code",
      "source": [
        "#Specific Details about the Discount Percentage\n",
        "\n",
        "df1['discount_percentage'].describe()"
      ],
      "metadata": {
        "id": "asbsBDCiccji"
      },
      "execution_count": null,
      "outputs": []
    },
    {
      "cell_type": "code",
      "source": [
        "# The Discount Range by Product Main Category\n",
        "\n",
        "fig, ax = plt.subplots(figsize=(10, 6))\n",
        "\n",
        "sns.boxplot(data=df1, x='discount_percentage', y='category_1')\n",
        "\n",
        "ax.set_xlabel('Discount Percentage', fontweight='bold')\n",
        "ax.set_ylabel('Product Main Category', fontweight='bold')\n",
        "ax.set_title('Discount Percentage Range by Product Main Category', fontweight='heavy', size='x-large', y=1.03)\n",
        "\n",
        "\n",
        "plt.show()\n"
      ],
      "metadata": {
        "id": "yRLUfBSrcfQa"
      },
      "execution_count": null,
      "outputs": []
    },
    {
      "cell_type": "markdown",
      "source": [
        "**Computers & Accessories, Electronics and Home & Kitchen** products have a **large spread of discount variation** ranging a minimal of 0% to more than 90% discount.\n",
        "\n",
        "**Toys & Games, Cars & Motorbikes, Health & Personal Care, and Home Improvement** have the **least spread** of discount variation.\n",
        "\n",
        "**Office Products does not give a large amount of discount** compared to other products in the Main Category."
      ],
      "metadata": {
        "id": "WArAfChwcis_"
      }
    },
    {
      "cell_type": "code",
      "source": [
        "# The Discount Range by Product Sub-Category\n",
        "\n",
        "fig, ax = plt.subplots(figsize=(12, 7))\n",
        "\n",
        "sns.boxplot(data=df1, x='discount_percentage', y='category_2')\n",
        "\n",
        "ax.set_xlabel('Discount Percentage', fontweight='bold')\n",
        "ax.set_ylabel('Product Sub-Category', fontweight='bold')\n",
        "ax.set_title('Discount Range by Product Sub-Category', fontweight='heavy', size='x-large', y=1.03)\n",
        "\n",
        "plt.show()"
      ],
      "metadata": {
        "id": "J0EPVUe1clY9"
      },
      "execution_count": null,
      "outputs": []
    },
    {
      "cell_type": "code",
      "source": [
        "#Actual Price Range and Discounted Price Range by Product Main Category\n",
        "\n",
        "fig, ax = plt.subplots(2, 1, figsize=(13,15))\n",
        "\n",
        "fig.suptitle('Price Range by Product Main Category', fontweight='heavy', size='x-large')\n",
        "\n",
        "sns.scatterplot(ax=ax[0], data=df1, x='actual_price', y='category_1', alpha=0.3, color='red')\n",
        "sns.scatterplot(ax=ax[1], data=df1, x='discounted_price', y='category_1', alpha=0.3, color='orange')\n",
        "\n",
        "ax[0].set_xlabel('Actual Price (Rupee India)', fontweight='bold')\n",
        "ax[0].set_ylabel('Product Main Category', fontweight='bold')\n",
        "ax[0].set_title('Actual Price Range by Product Main Category', fontweight='bold')\n",
        "\n",
        "ax[1].set_xlabel('Discounted Price (Rupee India)', fontweight='bold')\n",
        "ax[1].set_ylabel('Product Main Category', fontweight='bold')\n",
        "ax[1].set_title('Discounted Price Range by Product Main Category', fontweight='bold')\n",
        "\n",
        "plt.subplots_adjust(hspace = 0.3)\n",
        "\n",
        "plt.show()"
      ],
      "metadata": {
        "id": "ijUyWG3jclZt"
      },
      "execution_count": null,
      "outputs": []
    },
    {
      "cell_type": "markdown",
      "source": [
        "There is a significant decrease in price after discount especially in the Electronics Category. Most of the **product's actual price falls below 20,000 Rupee**. For the **discounted price**, most of the **products fall under 10,000 Rupee**."
      ],
      "metadata": {
        "id": "lnrO2z0tcvmX"
      }
    },
    {
      "cell_type": "code",
      "source": [
        "#Actual Price Range and Discounted Price Range by Product Sub Category\n",
        "\n",
        "fig, ax = plt.subplots(2, 1, figsize=(13, 15))\n",
        "\n",
        "fig.suptitle('Price Range by Product Main Category', fontweight='heavy', size='x-large')\n",
        "\n",
        "sns.scatterplot(ax=ax[0], data=df1, x='actual_price', y='category_2', alpha=0.3, color='red')\n",
        "sns.scatterplot(ax=ax[1], data=df1, x='discounted_price', y='category_2', alpha=0.3, color='orange')\n",
        "\n",
        "ax[0].set_xlabel('Actual Price (Rupee India)', fontweight='bold')\n",
        "ax[0].set_ylabel('Product  Sub-Category', fontweight='bold')\n",
        "ax[0].set_title('Actual Price Range by Product Sub-Category', fontweight='bold')\n",
        "\n",
        "ax[1].set_xlabel('Discounted Price (Rupee India)', fontweight='bold')\n",
        "ax[1].set_ylabel('Product Sub-Category', fontweight='bold')\n",
        "ax[1].set_title('Discounted Price Range by Product Sub-Category', fontweight='bold')\n",
        "\n",
        "plt.subplots_adjust(hspace = 0.2)\n",
        "\n",
        "plt.show()"
      ],
      "metadata": {
        "id": "oGzIFLXmcx1R"
      },
      "execution_count": null,
      "outputs": []
    },
    {
      "cell_type": "code",
      "source": [
        "#Pivot table of Prices\n",
        "\n",
        "def p25(g):\n",
        "    return np.percentile(g, 25)\n",
        "\n",
        "def p75(g):\n",
        "    return np.percentile(g, 75)\n",
        "\n",
        "actual_price_pivot = df1.pivot_table(values=['actual_price', 'discounted_price'], index=['category_1', 'category_2'], aggfunc=([p25, np.median, np.mean, p75]))\n",
        "\n",
        "actual_price_pivot"
      ],
      "metadata": {
        "id": "2XKMEOrVc0PS"
      },
      "execution_count": null,
      "outputs": []
    },
    {
      "cell_type": "markdown",
      "source": [
        "category_1 refers to the Main Category\n",
        "\n",
        "category_2 refers to the Sub-Category"
      ],
      "metadata": {
        "id": "cmGOWJuCc3UG"
      }
    },
    {
      "cell_type": "markdown",
      "source": [
        "# **Predicting Discounted Price of Products**"
      ],
      "metadata": {
        "id": "Vvq8qPJDc7DK"
      }
    },
    {
      "cell_type": "markdown",
      "source": [
        "I will attempt to make a Simple Linear Regression Model. The **Independent Varaible will be the Actual Price** and the **Dependent Variable will be Discounted Price.**"
      ],
      "metadata": {
        "id": "wwGxxQ1Pc9iY"
      }
    },
    {
      "cell_type": "code",
      "source": [
        "#Extracting Independent and Dependent Variables\n",
        "\n",
        "X = df1.iloc[:, 3].values.reshape(-1, 1)\n",
        "y = df1.iloc[:, 2].values.reshape(-1, 1)"
      ],
      "metadata": {
        "id": "eDAh2Hshc0QJ"
      },
      "execution_count": null,
      "outputs": []
    },
    {
      "cell_type": "code",
      "source": [
        "#Splitting the dataset into the Training Set and Test Set\n",
        "\n",
        "from sklearn.model_selection import train_test_split\n",
        "\n",
        "X_train, X_test, y_train, y_test = train_test_split(X, y, test_size=0.2, random_state=21)"
      ],
      "metadata": {
        "id": "5Ey7PoevdCFU"
      },
      "execution_count": null,
      "outputs": []
    },
    {
      "cell_type": "code",
      "source": [
        "#Fitting Simple Linear Regression to the Training Set\n",
        "\n",
        "from sklearn.linear_model import LinearRegression\n",
        "\n",
        "reg = LinearRegression()\n",
        "reg.fit(X_train, y_train)"
      ],
      "metadata": {
        "id": "2L_XQqv0dEaf"
      },
      "execution_count": null,
      "outputs": []
    },
    {
      "cell_type": "code",
      "source": [
        "#Calculating the Coefficients\n",
        "\n",
        "reg.coef_"
      ],
      "metadata": {
        "id": "cuUdldeCdGky"
      },
      "execution_count": null,
      "outputs": []
    },
    {
      "cell_type": "code",
      "source": [
        "#Calculating the Intercept\n",
        "\n",
        "reg.intercept_"
      ],
      "metadata": {
        "id": "V-_0b9Y_dIkF"
      },
      "execution_count": null,
      "outputs": []
    },
    {
      "cell_type": "markdown",
      "source": [],
      "metadata": {
        "id": "i6Qw6Yw26BMi"
      }
    },
    {
      "cell_type": "code",
      "source": [
        "#Calculating the R Squared Value\n",
        "\n",
        "from sklearn.metrics import r2_score\n",
        "y_pred = reg.predict(X_test)\n",
        "print('R2 Score: ', r2_score(y_test, y_pred))"
      ],
      "metadata": {
        "id": "g_v1w5sodJvS"
      },
      "execution_count": null,
      "outputs": []
    },
    {
      "cell_type": "code",
      "source": [
        "#Scatter Plot with Regression Line\n",
        "\n",
        "plt.scatter(X_train, y_train)\n",
        "plt.plot(X_test, y_pred, color='red')\n",
        "plt.xlabel('Actual Price', fontweight='bold')\n",
        "plt.ylabel('Discounted Price', fontweight='bold')\n",
        "plt.title('Plot with Regression Line', fontweight='bold')\n",
        "plt.show()\n"
      ],
      "metadata": {
        "id": "rX8wPBIudJwM"
      },
      "execution_count": null,
      "outputs": []
    },
    {
      "cell_type": "code",
      "source": [
        "#Cross Validation Result\n",
        "\n",
        "from sklearn.model_selection import cross_val_score, KFold\n",
        "\n",
        "kf = KFold(n_splits=10, shuffle=True, random_state=21)\n",
        "\n",
        "cv_results = cross_val_score(reg, X, y, cv=kf)\n",
        "\n",
        "print('Cross Validation Results Mean: ', cv_results.mean())"
      ],
      "metadata": {
        "id": "96Qqm1hzdOrs"
      },
      "execution_count": null,
      "outputs": []
    },
    {
      "cell_type": "code",
      "source": [
        "#Filling in some missing values from Rating Count Column\n",
        "\n",
        "df1['rating_count'].fillna(df1['rating_count'].mode()[0], inplace=True)"
      ],
      "metadata": {
        "id": "ueESqr3GdQgg"
      },
      "execution_count": null,
      "outputs": []
    },
    {
      "cell_type": "code",
      "source": [
        "#Lasso Regression\n",
        "\n",
        "from sklearn.linear_model import Lasso\n",
        "\n",
        "Xl = df1[['actual_price', 'rating', 'rating_count']]\n",
        "yl = df1['discounted_price']\n",
        "\n",
        "Xl_train, Xl_test, yl_train, yl_test = train_test_split(Xl, yl, random_state = 21, test_size = 0.3)\n",
        "\n",
        "lasso = Lasso(alpha = 0.1)\n",
        "lasso.fit(Xl_train, yl_train)\n",
        "ridge_predict = lasso.predict(Xl_test)\n",
        "print('Lasso score: ',lasso.score(Xl_test, yl_test))\n",
        "print('Lasso coefficients: ',lasso.coef_)"
      ],
      "metadata": {
        "id": "XzO1hxu5dQha"
      },
      "execution_count": null,
      "outputs": []
    },
    {
      "cell_type": "code",
      "source": [
        "#Ridge Regression\n",
        "\n",
        "from sklearn.linear_model import Ridge\n",
        "\n",
        "ridge = Ridge(alpha = 0.1)\n",
        "ridge.fit(Xl_train, yl_train)\n",
        "ridge_predict = ridge.predict(Xl_test)\n",
        "print('Ridge score: ',ridge.score(Xl_test, yl_test))"
      ],
      "metadata": {
        "id": "NADN0Eh-dWUb"
      },
      "execution_count": null,
      "outputs": []
    },
    {
      "cell_type": "code",
      "source": [
        "#Linear Regression with 3 Predictors\n",
        "\n",
        "reg2 = LinearRegression()\n",
        "reg2.fit(Xl_train, yl_train)\n",
        "\n",
        "yl_pred = reg2.predict(Xl_test)\n",
        "print('R2 Score: ', r2_score(yl_test, yl_pred))"
      ],
      "metadata": {
        "id": "JPv-_0wHdYpi"
      },
      "execution_count": null,
      "outputs": []
    },
    {
      "cell_type": "code",
      "source": [
        "#Applying Preprocessing using Standard Scaler\n",
        "\n",
        "from sklearn.preprocessing import StandardScaler\n",
        "\n",
        "scaler = StandardScaler()\n",
        "\n",
        "X2 = df1[['actual_price', 'rating', 'rating_count']]\n",
        "y2 = df1['discounted_price']\n",
        "\n",
        "X2 = scaler.fit_transform(X2)\n",
        "\n",
        "X2_train, X2_test, y2_train, y2_test = train_test_split(X2,y2,random_state = 21, test_size = 0.3)\n",
        "\n",
        "regss = LinearRegression()\n",
        "regss.fit(X2_train, y2_train)\n",
        "\n",
        "y2_pred = regss.predict(X2_test)\n",
        "print('R2 Score: ', r2_score(y2_test, y2_pred))"
      ],
      "metadata": {
        "id": "3spkfA3VdamP"
      },
      "execution_count": null,
      "outputs": []
    },
    {
      "cell_type": "markdown",
      "source": [
        "# **Evaluating Simple Linear Regression Model**"
      ],
      "metadata": {
        "id": "3CHRAmBXdgS4"
      }
    },
    {
      "cell_type": "markdown",
      "source": [
        "There are a few requirements that must be met to make a successful Linear Regression Model\n",
        "\n",
        "1. Linear Relationship between the dependent and independent variables\n",
        "2. Normally distributed in error component\n",
        "3. No multicollinearity, instability of regression coefficients\n",
        "4. No heteroskedasticity, the variance the residuals must be constant across the predicted balues"
      ],
      "metadata": {
        "id": "eLaXkg7edixs"
      }
    },
    {
      "cell_type": "code",
      "source": [
        "ols_data = df1[['discounted_price', 'actual_price']]"
      ],
      "metadata": {
        "id": "FGx-uIqrdltR"
      },
      "execution_count": null,
      "outputs": []
    },
    {
      "cell_type": "markdown",
      "source": [
        "The scatterplot of the actual price and discounted price in the Data Exploration section, shows that **there is a Linear Relationship.** Thus, this requirement is met."
      ],
      "metadata": {
        "id": "hxiFMW4wd0rI"
      }
    },
    {
      "cell_type": "code",
      "source": [
        "ols_formula = 'discounted_price ~ actual_price'"
      ],
      "metadata": {
        "id": "lLCzb-Apd8eA"
      },
      "execution_count": null,
      "outputs": []
    },
    {
      "cell_type": "code",
      "source": [
        "#Importing ols function\n",
        "\n",
        "from statsmodels.formula.api import ols\n",
        "\n",
        "OLS = ols(formula = ols_formula, data=ols_data)\n",
        "model = OLS.fit()"
      ],
      "metadata": {
        "id": "63y91kBaeA2s"
      },
      "execution_count": null,
      "outputs": []
    },
    {
      "cell_type": "code",
      "source": [
        "model.summary()"
      ],
      "metadata": {
        "id": "oYHXkw8peA4B"
      },
      "execution_count": null,
      "outputs": []
    },
    {
      "cell_type": "markdown",
      "source": [
        "The summary states that there is strong multicollinearity. If I were to use this linear regression model for a prediction it does not matter if it has a strong multicollinearity. This is the purpose of the Linear regression model, thus **the requirement has been met**.\n",
        "\n",
        "If I were to use the linear regression model to measure the influence of the independent variable to the depedent variable, there must not have strong multicollinearity."
      ],
      "metadata": {
        "id": "aQL41RKfeIm2"
      }
    },
    {
      "cell_type": "code",
      "source": [
        "#Subset X Variable\n",
        "X_ols = ols_data['actual_price']\n",
        "\n",
        "#Get Prediction From Models\n",
        "fitted_values = model.predict(X_ols)\n",
        "\n",
        "#Calculate residuals\n",
        "residuals = model.resid"
      ],
      "metadata": {
        "id": "hwtZM4vWeLR1"
      },
      "execution_count": null,
      "outputs": []
    },
    {
      "cell_type": "code",
      "source": [
        "sns.regplot(data=ols_data, x='actual_price', y='discounted_price')\n",
        "\n",
        "plt.show()"
      ],
      "metadata": {
        "id": "cH7CCrYOePrL"
      },
      "execution_count": null,
      "outputs": []
    },
    {
      "cell_type": "code",
      "source": [
        "#Checking for Homoscedasticity\n",
        "\n",
        "plt.scatter(fitted_values, residuals)\n",
        "\n",
        "plt.xlabel('Fitted Values')\n",
        "plt.ylabel('Residuals')\n",
        "\n",
        "plt.show()"
      ],
      "metadata": {
        "id": "sDy52Pi4eR3w"
      },
      "execution_count": null,
      "outputs": []
    },
    {
      "cell_type": "markdown",
      "source": [
        "The above plot shows that is a Heteroscedasticity. This means that the **requirement for Linear Regression is NOT MET**."
      ],
      "metadata": {
        "id": "24pDVuvAeUrk"
      }
    },
    {
      "cell_type": "code",
      "source": [
        "#Checking for Normal Distribution of the Error\n",
        "\n",
        "ax = sns.histplot(residuals)\n",
        "ax.set_xlabel('Residual Values')\n",
        "plt.show()"
      ],
      "metadata": {
        "id": "_qXCe6mUeXcD"
      },
      "execution_count": null,
      "outputs": []
    },
    {
      "cell_type": "code",
      "source": [
        "#Quantile-Quantile Plot\n",
        "\n",
        "import statsmodels.api as sm\n",
        "\n",
        "ax = sm.qqplot(model.resid, line='s')\n",
        "\n",
        "plt.show()"
      ],
      "metadata": {
        "id": "NSKteXzqeZJj"
      },
      "execution_count": null,
      "outputs": []
    },
    {
      "cell_type": "markdown",
      "source": [
        "To check for normal distribution of the error, the data points need to be close to the line. From the above plot we can see that there are many data points that are further from the line. This requirement of **linear regression is Not Met**."
      ],
      "metadata": {
        "id": "BEaIa_meec5z"
      }
    },
    {
      "cell_type": "markdown",
      "source": [
        "##Conclusion"
      ],
      "metadata": {
        "id": "dRYqgt2PMMC2"
      }
    },
    {
      "cell_type": "markdown",
      "source": [
        "In conclusion, there are more than two requirements that are not met for the Linear Regression Model. The requirements are\n",
        "\n",
        "1. No heteroskedasticity\n",
        "2. Normally distributed Error component\n",
        "\n",
        "\n",
        "**Thus this Simple Linear Regression Model should not be used.**"
      ],
      "metadata": {
        "id": "K7Q62kTneguo"
      }
    },
    {
      "cell_type": "markdown",
      "source": [
        "\n",
        "**Group number 24**\n",
        "\n",
        "\n",
        "1.   Sahana Shree N (1SJ20CS122)\n",
        "2.   Suchitra N L   (1SJ20CS144)\n",
        "3.   Supraja B      (1SJ20CS147)\n",
        "4.   Tarun K H      (1SJ20CS152)\n",
        "\n",
        "\n",
        "\n"
      ],
      "metadata": {
        "id": "MHf_IlOuMHYR"
      }
    },
    {
      "cell_type": "code",
      "source": [
        "df.head()\n"
      ],
      "metadata": {
        "id": "NWKHWOlKniVA"
      },
      "execution_count": null,
      "outputs": []
    }
  ]
}